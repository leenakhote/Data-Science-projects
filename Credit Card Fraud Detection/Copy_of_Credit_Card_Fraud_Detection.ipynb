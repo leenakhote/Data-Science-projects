{
  "cells": [
    {
      "cell_type": "markdown",
      "metadata": {
        "id": "q3CQ1u4kv8fi"
      },
      "source": [
        "**Aim** :\n",
        "Banks need to put proactive monitoring and fraud prevention mechanisms in place to reduce the unauthorised transactions. We need to develop a machine learning model to detect fraudulent transactions based on the historical transactional data of customers with a pool of merchants.\n",
        "\n",
        "Flow of Analysis :\n",
        "1. Import the required libraries\n",
        "2. Read and understand the data\n",
        "3. Data cleanup and preparation\n",
        "4. Exploratory Data Analysis\n",
        "5. Model building\n",
        "6. Hyperparameters Tuning\n",
        "7. Cost Benefit Analysis\n",
        "\n"
      ]
    },
    {
      "cell_type": "markdown",
      "metadata": {
        "id": "xQeTHiWgwIqi"
      },
      "source": [
        "# Import Libraries\n",
        "\n",
        "\n"
      ]
    },
    {
      "cell_type": "code",
      "execution_count": null,
      "metadata": {
        "id": "9I62lLPAwTJQ"
      },
      "outputs": [],
      "source": [
        "import pandas as pd\n",
        "import numpy as np\n",
        "import matplotlib.pyplot as plt\n",
        "import seaborn as sns\n",
        "import warnings\n",
        "import time"
      ]
    },
    {
      "cell_type": "code",
      "execution_count": null,
      "metadata": {
        "id": "2VjkyvMswTbM"
      },
      "outputs": [],
      "source": [
        "%matplotlib inline\n",
        "warnings.filterwarnings('ignore')\n",
        "sns.set_style(\"darkgrid\")"
      ]
    },
    {
      "cell_type": "code",
      "execution_count": null,
      "metadata": {
        "id": "dhpuROdzwcpp"
      },
      "outputs": [],
      "source": [
        "# Adjusting the display to fit rows and columns effectively\n",
        "start_time = time.time()\n",
        "pd.set_option('display.max_rows', 500)\n",
        "pd.set_option('display.max_columns', 500)\n",
        "pd.set_option('display.width', 1000)"
      ]
    },
    {
      "cell_type": "code",
      "execution_count": null,
      "metadata": {
        "id": "qk4C-rHqwf8B"
      },
      "outputs": [],
      "source": [
        "from datetime import datetime, date\n",
        "import math\n",
        "from math import radians, sin, cos, acos, atan2\n",
        "from sklearn.model_selection import train_test_split,GridSearchCV,RandomizedSearchCV\n",
        "from sklearn.ensemble import GradientBoostingClassifier,RandomForestClassifier\n",
        "from sklearn.preprocessing import MinMaxScaler"
      ]
    },
    {
      "cell_type": "code",
      "execution_count": null,
      "metadata": {
        "id": "OcW60V52wjjh"
      },
      "outputs": [],
      "source": [
        "data_train = pd.read_csv('/content/drive/MyDrive/Colab Notebooks/Data Science Case Studies /fraudTrain.csv')\n"
      ]
    },
    {
      "cell_type": "code",
      "execution_count": null,
      "metadata": {
        "colab": {
          "base_uri": "https://localhost:8080/"
        },
        "id": "eUhhcLzNw-ZF",
        "outputId": "441f31dc-e279-4e87-a40e-3791109506e2"
      },
      "outputs": [
        {
          "output_type": "execute_result",
          "data": {
            "text/plain": [
              "(1296675, 23)"
            ]
          },
          "metadata": {},
          "execution_count": 6
        }
      ],
      "source": [
        "data_train.shape"
      ]
    },
    {
      "cell_type": "code",
      "execution_count": null,
      "metadata": {
        "id": "pM0Ivk4xxLtG"
      },
      "outputs": [],
      "source": [
        "data_test = pd.read_csv('/content/drive/MyDrive/Colab Notebooks/Data Science Case Studies /fraudTest.csv')\n"
      ]
    },
    {
      "cell_type": "code",
      "execution_count": null,
      "metadata": {
        "colab": {
          "base_uri": "https://localhost:8080/"
        },
        "id": "K6QA2jRP1MtK",
        "outputId": "b7f6abad-6003-4e19-c64f-052e0923e63f"
      },
      "outputs": [
        {
          "output_type": "execute_result",
          "data": {
            "text/plain": [
              "(555719, 23)"
            ]
          },
          "metadata": {},
          "execution_count": 8
        }
      ],
      "source": [
        "data_test.shape"
      ]
    },
    {
      "cell_type": "code",
      "execution_count": null,
      "metadata": {
        "id": "s6rh0mbz1ZTL"
      },
      "outputs": [],
      "source": [
        "# Checking for duplicates and deleteing the duplicate records. \n",
        "\n",
        "data_train.drop_duplicates()\n",
        "data_test.drop_duplicates()\n",
        "\n",
        "print(data_train.shape)\n",
        "print(data_test.shape)"
      ]
    },
    {
      "cell_type": "code",
      "execution_count": null,
      "metadata": {
        "id": "iaWDpD_u10ti"
      },
      "outputs": [],
      "source": [
        "# Checking the fields and their datatypes. \n",
        "\n",
        "data_train.info(verbose=True) # We see that there are no null values"
      ]
    },
    {
      "cell_type": "code",
      "execution_count": null,
      "metadata": {
        "id": "RwrYXGzQ2A7H"
      },
      "outputs": [],
      "source": [
        "data_test.info(verbose=True) # We see that there are no null values\n"
      ]
    },
    {
      "cell_type": "code",
      "execution_count": null,
      "metadata": {
        "id": "SaF3X5tP2H4E"
      },
      "outputs": [],
      "source": [
        "# Check statistical information abut numerical fields.\n",
        "\n",
        "data_train.describe()"
      ]
    },
    {
      "cell_type": "markdown",
      "metadata": {
        "id": "xKmRCfTY2Qst"
      },
      "source": [
        "\n",
        "# Data Cleaning and Preparation "
      ]
    },
    {
      "cell_type": "code",
      "execution_count": null,
      "metadata": {
        "colab": {
          "base_uri": "https://localhost:8080/"
        },
        "id": "W3rZB3002NAX",
        "outputId": "11c22c45-3b02-4284-a836-d5ef170c0f3f"
      },
      "outputs": [
        {
          "output_type": "execute_result",
          "data": {
            "text/plain": [
              "0    0.994211\n",
              "1    0.005789\n",
              "Name: is_fraud, dtype: float64"
            ]
          },
          "metadata": {},
          "execution_count": 13
        }
      ],
      "source": [
        "data_train['is_fraud'].value_counts(normalize=True) # check the class imbalance of target variable is_fraud in train set\n"
      ]
    },
    {
      "cell_type": "code",
      "execution_count": null,
      "metadata": {
        "id": "LGO1Bwo92gm2"
      },
      "outputs": [],
      "source": [
        "# 1= fraud , 0= Non fraud"
      ]
    },
    {
      "cell_type": "code",
      "execution_count": null,
      "metadata": {
        "colab": {
          "base_uri": "https://localhost:8080/"
        },
        "id": "-UES1xE42kYu",
        "outputId": "40251de8-5765-4587-9b1c-1b4ce2903d95"
      },
      "outputs": [
        {
          "output_type": "execute_result",
          "data": {
            "text/plain": [
              "0    0.99614\n",
              "1    0.00386\n",
              "Name: is_fraud, dtype: float64"
            ]
          },
          "metadata": {},
          "execution_count": 15
        }
      ],
      "source": [
        "data_test['is_fraud'].value_counts(normalize=True) # check the class imbalance of target variable is_fraud in train set\n"
      ]
    },
    {
      "cell_type": "code",
      "execution_count": null,
      "metadata": {
        "id": "sd4fKDuz2sVH"
      },
      "outputs": [],
      "source": [
        "#Using data_tain \n",
        "\n",
        "data_train.isnull().sum().sort_values()\n"
      ]
    },
    {
      "cell_type": "code",
      "execution_count": null,
      "metadata": {
        "id": "K7l3pQXO4YA6"
      },
      "outputs": [],
      "source": [
        "# Dropping unwanted columns\n",
        "\n",
        "cols_to_delete = ['Unnamed: 0', 'cc_num', 'street', 'zip', 'trans_num', 'unix_time' ] \n",
        "data_train.drop(cols_to_delete, axis = 1, inplace = True)"
      ]
    },
    {
      "cell_type": "code",
      "execution_count": null,
      "metadata": {
        "id": "0qNuFcI84oM2"
      },
      "outputs": [],
      "source": [
        "# Create a column customer name with columns first and last \n",
        "\n",
        "data_train['Customer_name'] = data_train['first']+\" \"+data_train['last']\n",
        "data_train.drop(['first','last'], axis=1, inplace=True)"
      ]
    },
    {
      "cell_type": "code",
      "execution_count": null,
      "metadata": {
        "id": "6ZKu13aV44nI"
      },
      "outputs": [],
      "source": [
        "data_train.info()\n"
      ]
    },
    {
      "cell_type": "code",
      "execution_count": null,
      "metadata": {
        "colab": {
          "base_uri": "https://localhost:8080/"
        },
        "id": "MfHCow405BE9",
        "outputId": "2aef0608-4f22-407e-e57a-0e9e5a69a2ce"
      },
      "outputs": [
        {
          "output_type": "stream",
          "name": "stdout",
          "text": [
            "Min population :  23\n",
            "Max population :  2906700\n"
          ]
        }
      ],
      "source": [
        "# Analyse city_pop variable\n",
        "\n",
        "print(\"Min population : \", data_train['city_pop'].min())\n",
        "print(\"Max population : \", data_train['city_pop'].max())"
      ]
    },
    {
      "cell_type": "code",
      "execution_count": null,
      "metadata": {
        "id": "QEp2hUY55PQG"
      },
      "outputs": [],
      "source": [
        "data_train[\"Population_group\"] = pd.cut(data_train[\"city_pop\"], bins=list(range(0,3000001,500000)), labels = [\"<5lac\",\"5-10lac\",\"10-15lac\",\"15-20\",\"20-25lac\",\"25-30lac\"])\n"
      ]
    },
    {
      "cell_type": "code",
      "execution_count": null,
      "metadata": {
        "colab": {
          "base_uri": "https://localhost:8080/"
        },
        "id": "b9a0oNmb5ZH7",
        "outputId": "1e7f7b2f-e20b-4679-f8ec-02c3d5184da2"
      },
      "outputs": [
        {
          "output_type": "execute_result",
          "data": {
            "text/plain": [
              "<5lac       1230966\n",
              "5-10lac       32895\n",
              "10-15lac      14882\n",
              "15-20         11210\n",
              "25-30lac       6201\n",
              "20-25lac        521\n",
              "Name: Population_group, dtype: int64"
            ]
          },
          "metadata": {},
          "execution_count": 22
        }
      ],
      "source": [
        "data_train[\"Population_group\"].value_counts()\n"
      ]
    },
    {
      "cell_type": "code",
      "execution_count": null,
      "metadata": {
        "id": "c6IEVfuX5bef"
      },
      "outputs": [],
      "source": [
        "# Create a column age from dob variable\n",
        "\n",
        "data_train['dob'] = pd.to_datetime(data_train['dob'])"
      ]
    },
    {
      "cell_type": "code",
      "execution_count": null,
      "metadata": {
        "id": "ko4Wtqey5rAs"
      },
      "outputs": [],
      "source": [
        "def calculate_age(born):\n",
        "    today = date.today()\n",
        "    return today.year - born.year - ((today.month, today.day) < (born.month, born.day))"
      ]
    },
    {
      "cell_type": "code",
      "execution_count": null,
      "metadata": {
        "id": "_kzVGZ1N5vQR"
      },
      "outputs": [],
      "source": [
        " #Create a column age\n",
        "data_train['age'] = data_train[\"dob\"].apply(calculate_age)"
      ]
    },
    {
      "cell_type": "code",
      "execution_count": null,
      "metadata": {
        "id": "x2vby4WQ51Nj"
      },
      "outputs": [],
      "source": [
        "# Create a column age_group from the column age\n",
        "data_train[\"age_group\"] = pd.cut(data_train[\"age\"], bins=[0,25,40,60,80,9999], labels = [\"<25\",\"25-40\",\"40-60\",\"60-80\",\"80+\"])"
      ]
    },
    {
      "cell_type": "code",
      "execution_count": null,
      "metadata": {
        "id": "lMXn1KBj59sb"
      },
      "outputs": [],
      "source": [
        "#pip install mpu --user"
      ]
    },
    {
      "cell_type": "code",
      "execution_count": null,
      "metadata": {
        "id": "vWbC5qQI6LZ6"
      },
      "outputs": [],
      "source": [
        "# Calculating distance using customer co-ordinates and merchant co-ordinates\n",
        "#import mpu\n",
        "\n",
        "\n",
        "#data['distance'] = mpu.haversine_distance((data['merch_lat'], data['merch_long']), (data['lat'], data['long']))"
      ]
    },
    {
      "cell_type": "code",
      "execution_count": null,
      "metadata": {
        "id": "YOgJwXiq6O4t"
      },
      "outputs": [],
      "source": [
        "# Calculating distance between the customer and merchant location using customer location co-ordinates(lat and long) \n",
        "# and merchant location co-ordinates(merch_lat and merch_long)\n",
        "\n",
        "R = 6373.0  # radius of the Earth\n",
        "\n",
        "data_train['lat'] = data_train['lat'].astype('float')\n",
        "data_train['long'] = data_train['long'].astype('float')\n",
        "data_train['merch_lat'] = data_train['merch_lat'].astype('float')\n",
        "data_train['merch_long'] = data_train['merch_long'].astype('float')#coordinates"
      ]
    },
    {
      "cell_type": "code",
      "execution_count": null,
      "metadata": {
        "id": "gZESCwtF6aj_"
      },
      "outputs": [],
      "source": [
        "data_train['lat'] = np.radians(data_train['lat'])\n",
        "data_train['long'] = np.radians(data_train['long'])\n",
        "data_train['merch_lat'] = np.radians(data_train['merch_lat'])\n",
        "data_train['merch_long'] = np.radians(data_train['merch_long'])"
      ]
    },
    {
      "cell_type": "code",
      "execution_count": null,
      "metadata": {
        "id": "CvafFKu_6i7_"
      },
      "outputs": [],
      "source": [
        "data_train['dlon'] = data_train['merch_long'] - data_train['long'] #change in coordinates\n",
        "data_train['dlat'] = data_train['merch_lat'] - data_train['lat']"
      ]
    },
    {
      "cell_type": "code",
      "execution_count": null,
      "metadata": {
        "id": "hxag-A0z6rNu"
      },
      "outputs": [],
      "source": [
        "a = np.sin(data_train['dlat'] / 2)**2 + np.cos(data_train['lat']) * np.cos(data_train['merch_lat']) * np.sin(data_train['dlon'] / 2)**2  #Haversine formula\n"
      ]
    },
    {
      "cell_type": "code",
      "execution_count": null,
      "metadata": {
        "id": "fgm9ZhV862Xq"
      },
      "outputs": [],
      "source": [
        "c = 2*2*np.arctan2(np.sqrt(a), np.sqrt(1 - a))\n",
        "data_train['distance'] = R * c"
      ]
    },
    {
      "cell_type": "code",
      "execution_count": null,
      "metadata": {
        "id": "20U8mKE47Bzk"
      },
      "outputs": [],
      "source": [
        "data_train['distance'].head()\n"
      ]
    },
    {
      "cell_type": "code",
      "execution_count": null,
      "metadata": {
        "id": "x-sfjzaH7HOz"
      },
      "outputs": [],
      "source": [
        "data_train['distance'].describe()\n"
      ]
    },
    {
      "cell_type": "code",
      "execution_count": null,
      "metadata": {
        "id": "sQCoG0Gm7OMx"
      },
      "outputs": [],
      "source": [
        "data_train[\"dist_range_km\"] = pd.cut(data_train[\"distance\"], bins=[0,25,50,100,150,200,250,300,9999], labels = [\"<25\",\"25-50\",\"50-100\",\"100-150\",\"150-200\",\"200-250\",\"250-300\",\"300+\"])\n"
      ]
    },
    {
      "cell_type": "code",
      "execution_count": null,
      "metadata": {
        "id": "LbK_5t6y7VIo"
      },
      "outputs": [],
      "source": [
        "data_train.head()\n"
      ]
    },
    {
      "cell_type": "code",
      "execution_count": null,
      "metadata": {
        "id": "Ksx_PuMj7aWf"
      },
      "outputs": [],
      "source": [
        "data_train.drop(['dlat', 'dlon', 'dob','city_pop'], axis=1, inplace=True)"
      ]
    },
    {
      "cell_type": "code",
      "execution_count": null,
      "metadata": {
        "id": "3FlPHM9t75jn"
      },
      "outputs": [],
      "source": [
        "data_train.info()\n"
      ]
    },
    {
      "cell_type": "code",
      "execution_count": null,
      "metadata": {
        "id": "B-17JD8J7-Ef"
      },
      "outputs": [],
      "source": [
        "data_train['trans_date_trans_time'] = pd.to_datetime(data_train['trans_date_trans_time'])\n"
      ]
    },
    {
      "cell_type": "code",
      "execution_count": null,
      "metadata": {
        "id": "cu-O9fzn8IUd"
      },
      "outputs": [],
      "source": [
        "# Extract year and month from trans_date_trans_time column\n",
        "\n",
        "data_train['year'] = pd.DatetimeIndex(data_train['trans_date_trans_time']).year\n",
        "data_train['month'] = pd.DatetimeIndex(data_train['trans_date_trans_time']).month"
      ]
    },
    {
      "cell_type": "code",
      "execution_count": null,
      "metadata": {
        "id": "R_Zt_nhw8RBn"
      },
      "outputs": [],
      "source": [
        "# Extract day of the week and transaction hour from trans_date_trans_time column\n",
        "\n",
        "data_train['day_of_week'] = data_train['trans_date_trans_time'].dt.day_name()\n",
        "data_train['transaction_hour'] = data_train['trans_date_trans_time'].dt.hour"
      ]
    },
    {
      "cell_type": "markdown",
      "metadata": {
        "id": "7Gfjmdt18npC"
      },
      "source": [
        "# Exploratory Data Analysis"
      ]
    },
    {
      "cell_type": "markdown",
      "metadata": {
        "id": "kZzEG5h78xI8"
      },
      "source": [
        "# Univariate Analysis\n",
        "\n"
      ]
    },
    {
      "cell_type": "code",
      "execution_count": null,
      "metadata": {
        "colab": {
          "base_uri": "https://localhost:8080/",
          "height": 378
        },
        "id": "96sGHqeF82Ly",
        "outputId": "50b94e72-5b7e-4389-e4a5-e021b90dacbc"
      },
      "outputs": [
        {
          "output_type": "display_data",
          "data": {
            "text/plain": [
              "<Figure size 720x432 with 1 Axes>"
            ],
            "image/png": "[encoded data removed]"
          },
          "metadata": {}
        }
      ],
      "source": [
        "# TARGET variable is_fraud\n",
        "\n",
        "plt.figure(figsize= (10,6))\n",
        "fig = data_train[\"is_fraud\"].value_counts(normalize = True).plot.pie(autopct='%1.2f%%')\n",
        "plt.title(\"Pie-chart showing imbalance in is_fraud variable\", fontdict={'fontsize': 20, 'fontweight' : 5, 'color' : 'Green'})\n",
        "fig.legend(title=\"is_fraud\",\n",
        "          loc=\"center left\",\n",
        "          bbox_to_anchor=(1, 0, 0.5, 1))\n",
        "plt.show()"
      ]
    },
    {
      "cell_type": "markdown",
      "metadata": {
        "id": "87HoCSbX931a"
      },
      "source": [
        "Inference : As we can see, the dataset is imbalanced with 0.58% of transactions being fraudulent and 99.42% transactions being non-fraudulent\n",
        "\n"
      ]
    },
    {
      "cell_type": "code",
      "execution_count": null,
      "metadata": {
        "colab": {
          "base_uri": "https://localhost:8080/",
          "height": 370
        },
        "id": "8qVzeyQQ9sY-",
        "outputId": "6d653b9a-aa5a-4b17-b396-0823d15173db"
      },
      "outputs": [
        {
          "output_type": "display_data",
          "data": {
            "text/plain": [
              "<Figure size 576x288 with 1 Axes>"
            ],
            "image/png": "[encoded data removed]"
          },
          "metadata": {}
        }
      ],
      "source": [
        "# Category variable \n",
        "\n",
        "plt.figure(figsize= (8,4))\n",
        "data_train[\"category\"].value_counts(normalize = True).plot.bar()\n",
        "plt.title(\"Bar chart analysing category variable\\n\", fontdict={'fontsize': 20, 'fontweight' : 5, 'color' : 'Green'})\n",
        "\n",
        "plt.show()"
      ]
    },
    {
      "cell_type": "markdown",
      "metadata": {
        "id": "oWL3YzKp-G0E"
      },
      "source": [
        "Inference : Maximum transactions in the dataset belong to merchants falling in gas_transport category and least being travel category.\n",
        "\n"
      ]
    },
    {
      "cell_type": "code",
      "execution_count": null,
      "metadata": {
        "id": "tMoq2eOG-DcH"
      },
      "outputs": [],
      "source": [
        "# gender variable \n",
        "\n",
        "plt.figure(figsize= (8,4))\n",
        "data_train[\"gender\"].value_counts(normalize = True).plot.bar()\n",
        "plt.title(\"Bar chart analysing gender variable\\n\", fontdict={'fontsize': 20, 'fontweight' : 5, 'color' : 'Green'})\n",
        "\n",
        "plt.show()"
      ]
    },
    {
      "cell_type": "code",
      "execution_count": null,
      "metadata": {
        "id": "YE98ex2t-V1Q"
      },
      "outputs": [],
      "source": [
        "# Population_group variable \n",
        "\n",
        "plt.figure(figsize= (12,8))\n",
        "data_train[\"state\"].value_counts(normalize = True).plot.bar()\n",
        "plt.title(\"Bar chart analysing state variable\\n\", fontdict={'fontsize': 20, 'fontweight' : 5, 'color' : 'Green'})\n",
        "\n",
        "plt.show()"
      ]
    },
    {
      "cell_type": "code",
      "execution_count": null,
      "metadata": {
        "id": "I5tvtjS_-gTy"
      },
      "outputs": [],
      "source": [
        "plt.figure(figsize= (10,6))\n",
        "data_train[\"Population_group\"].value_counts(normalize = True).plot.bar()\n",
        "plt.title(\"Bar chart analysing Population_group variable\\n\", fontdict={'fontsize': 20, 'fontweight' : 5, 'color' : 'Green'})\n",
        "\n",
        "plt.show()"
      ]
    },
    {
      "cell_type": "code",
      "execution_count": null,
      "metadata": {
        "id": "lsb0lPbB-oaQ"
      },
      "outputs": [],
      "source": [
        "# age_group variable\n",
        "\n",
        "plt.figure(figsize= (10,6))\n",
        "data_train[\"age_group\"].value_counts(normalize = True).plot.bar()\n",
        "plt.title(\"Bar chart analysing age_group variable\\n\", fontdict={'fontsize': 20, 'fontweight' : 5, 'color' : 'Green'})\n",
        "\n",
        "plt.show()"
      ]
    },
    {
      "cell_type": "code",
      "execution_count": null,
      "metadata": {
        "id": "FfAsPEnU-vWn"
      },
      "outputs": [],
      "source": [
        "# year variable\n",
        "\n",
        "plt.figure(figsize= (10,6))\n",
        "data_train[\"year\"].value_counts(normalize = True).plot.bar()\n",
        "plt.title(\"Bar chart analysing year variable\\n\", fontdict={'fontsize': 20, 'fontweight' : 5, 'color' : 'Green'})\n",
        "\n",
        "plt.show()"
      ]
    },
    {
      "cell_type": "code",
      "execution_count": null,
      "metadata": {
        "id": "a9o5VUQd_gao"
      },
      "outputs": [],
      "source": [
        "# month variable\n",
        "\n",
        "plt.figure(figsize= (10,6))\n",
        "data_train[\"month\"].value_counts(normalize = True).plot.bar()\n",
        "plt.title(\"Bar chart analysing month variable\\n\", fontdict={'fontsize': 20, 'fontweight' : 5, 'color' : 'Green'})\n",
        "\n",
        "plt.show()"
      ]
    },
    {
      "cell_type": "code",
      "execution_count": null,
      "metadata": {
        "id": "9aPbaeIKAAxx"
      },
      "outputs": [],
      "source": [
        "# day_of_week variable\n",
        "\n",
        "plt.figure(figsize= (10,6))\n",
        "data_train[\"day_of_week\"].value_counts(normalize = True).plot.bar()\n",
        "plt.title(\"Bar chart analysing day_of_week variable\\n\", fontdict={'fontsize': 20, 'fontweight' : 5, 'color' : 'Green'})\n",
        "\n",
        "plt.show()"
      ]
    },
    {
      "cell_type": "code",
      "execution_count": null,
      "metadata": {
        "colab": {
          "base_uri": "https://localhost:8080/",
          "height": 450
        },
        "id": "6rFpcelvALdE",
        "outputId": "28b8547e-b2ef-4604-c776-e70dc0b72d74"
      },
      "outputs": [
        {
          "output_type": "display_data",
          "data": {
            "text/plain": [
              "<Figure size 720x432 with 1 Axes>"
            ],
            "image/png": "[encoded data removed]"
          },
          "metadata": {}
        }
      ],
      "source": [
        "# dist_range_km variable\n",
        "\n",
        "plt.figure(figsize= (10,6))\n",
        "data_train[\"dist_range_km\"].value_counts(normalize = True).plot.bar()\n",
        "plt.title(\"Bar chart analysing dist_range_km variable\\n\", fontdict={'fontsize': 20, 'fontweight' : 5, 'color' : 'Green'})\n",
        "\n",
        "plt.show()"
      ]
    },
    {
      "cell_type": "markdown",
      "metadata": {
        "id": "T7nkeudrAV4M"
      },
      "source": [
        "# Bi-Variate analysis"
      ]
    },
    {
      "cell_type": "code",
      "execution_count": null,
      "metadata": {
        "colab": {
          "base_uri": "https://localhost:8080/",
          "height": 434
        },
        "id": "hXdusaNmAaXX",
        "outputId": "2a4cbc16-b500-4707-cb9d-4e6a5136ef90"
      },
      "outputs": [
        {
          "output_type": "display_data",
          "data": {
            "text/plain": [
              "<Figure size 720x432 with 1 Axes>"
            ],
            "image/png": "[encoded data removed]"
          },
          "metadata": {}
        }
      ],
      "source": [
        "# amt vs age\n",
        "\n",
        "plt.figure(figsize= [10,6])\n",
        "plt.scatter(data_train[\"age\"], data_train[\"amt\"], alpha = 0.5)\n",
        "plt.title(\"Scatter plot analysing amt vs age\\n\", fontdict={'fontsize': 20, 'fontweight' : 5, 'color' : 'Green'})\n",
        "plt.xlabel(\"age\", fontdict={'fontsize': 12, 'fontweight' : 5, 'color' : 'Black'})\n",
        "plt.ylabel(\"amt\", fontdict={'fontsize': 12, 'fontweight' : 5, 'color' : 'Black'} )\n",
        "plt.show()"
      ]
    },
    {
      "cell_type": "code",
      "execution_count": null,
      "metadata": {
        "id": "9-8sXkpaAuOw"
      },
      "outputs": [],
      "source": [
        "fraud_data = data_train[data_train['is_fraud']==1]\n"
      ]
    },
    {
      "cell_type": "code",
      "execution_count": null,
      "metadata": {
        "colab": {
          "base_uri": "https://localhost:8080/",
          "height": 426
        },
        "id": "BTI2-7_3A9Xj",
        "outputId": "9214d7eb-e720-482d-e7cd-a24baa1672be"
      },
      "outputs": [
        {
          "output_type": "display_data",
          "data": {
            "text/plain": [
              "<Figure size 1080x432 with 2 Axes>"
            ],
            "image/png": "[encoded data removed]"
          },
          "metadata": {}
        }
      ],
      "source": [
        "plt.figure(figsize=(15,6))\n",
        "plt.subplot(1,2,1)\n",
        "plt.scatter(fraud_data[\"lat\"], fraud_data[\"long\"], alpha = 0.5)\n",
        "plt.title(\"Plot analysing distribution of customer location for frauds\\n\", fontdict={'fontsize': 15, 'fontweight' : 5, 'color' : 'Green'})\n",
        "plt.ylabel(\"Longitude\", fontdict={'fontsize': 12, 'fontweight' : 5, 'color' : 'Black'})\n",
        "plt.xlabel(\"Latitude\", fontdict={'fontsize': 12, 'fontweight' : 5, 'color' : 'Black'})\n",
        "\n",
        "plt.subplot(1,2,2)\n",
        "plt.scatter(fraud_data[\"merch_lat\"], fraud_data[\"merch_long\"], alpha = 0.5)\n",
        "plt.title(\"Plot analysing distribution of merchant location for frauds\\n\", fontdict={'fontsize': 15, 'fontweight' : 5, 'color' : 'Green'})\n",
        "plt.ylabel(\"Longitude\", fontdict={'fontsize': 12, 'fontweight' : 5, 'color' : 'Black'})\n",
        "plt.xlabel(\"Latitude\", fontdict={'fontsize': 12, 'fontweight' : 5, 'color' : 'Black'})\n",
        "\n",
        "plt.show()"
      ]
    },
    {
      "cell_type": "code",
      "execution_count": null,
      "metadata": {
        "colab": {
          "base_uri": "https://localhost:8080/",
          "height": 321
        },
        "id": "ppC2F5ncBEkL",
        "outputId": "9aee13f2-be89-437c-ce3d-b7387ac72a35"
      },
      "outputs": [
        {
          "output_type": "display_data",
          "data": {
            "text/plain": [
              "<Figure size 576x288 with 1 Axes>"
            ],
            "image/png": "[encoded data removed]"
          },
          "metadata": {}
        }
      ],
      "source": [
        "# is_fraud and amt\n",
        "\n",
        "plt.figure(figsize= (8,4))\n",
        "data_train.groupby(\"is_fraud\")[\"amt\"].mean().plot.bar()\n",
        "plt.title(\"Plot analysing amt w.r.t. is_fraud variable\\n\", fontdict={'fontsize': 20, 'fontweight' : 5, 'color' : 'Green'})\n",
        "\n",
        "plt.show()"
      ]
    },
    {
      "cell_type": "code",
      "execution_count": null,
      "metadata": {
        "id": "z_mAj7uGBJfY"
      },
      "outputs": [],
      "source": [
        "# is_fraud and age\n",
        "\n",
        "plt.figure(figsize= (8,4))\n",
        "data_train.groupby(\"is_fraud\")[\"age\"].mean().plot.bar()\n",
        "plt.title(\"Plot analysing age w.r.t. is_fraud variable\\n\", fontdict={'fontsize': 20, 'fontweight' : 5, 'color' : 'Green'})\n",
        "\n",
        "plt.show()"
      ]
    },
    {
      "cell_type": "markdown",
      "metadata": {
        "id": "L5pTaNTiBfc9"
      },
      "source": [
        "Inference: On an average more people in 40-50 years age group have done fraudulent transactions than genuine transactions.\n",
        "\n"
      ]
    },
    {
      "cell_type": "code",
      "execution_count": null,
      "metadata": {
        "colab": {
          "base_uri": "https://localhost:8080/",
          "height": 321
        },
        "id": "ZSA2KIEBBdJK",
        "outputId": "a12b92cc-f766-4f89-8378-0115f33bd76d"
      },
      "outputs": [
        {
          "output_type": "display_data",
          "data": {
            "text/plain": [
              "<Figure size 576x288 with 1 Axes>"
            ],
            "image/png": "[encoded data removed]"
          },
          "metadata": {}
        }
      ],
      "source": [
        "# is_fraud and distance\n",
        "\n",
        "plt.figure(figsize= (8,4))\n",
        "data_train.groupby(\"is_fraud\")[\"distance\"].mean().plot.bar()\n",
        "plt.title(\"Plot analysing distance w.r.t. is_fraud variable\\n\", fontdict={'fontsize': 20, 'fontweight' : 5, 'color' : 'Green'})\n",
        "\n",
        "plt.show()"
      ]
    },
    {
      "cell_type": "code",
      "execution_count": null,
      "metadata": {
        "colab": {
          "base_uri": "https://localhost:8080/",
          "height": 450
        },
        "id": "0W1U0RGkBrWa",
        "outputId": "8eaa9382-78c9-4b6e-9790-49229d5e28ff"
      },
      "outputs": [
        {
          "output_type": "display_data",
          "data": {
            "text/plain": [
              "<Figure size 720x432 with 1 Axes>"
            ],
            "image/png": "[encoded data removed]"
          },
          "metadata": {}
        }
      ],
      "source": [
        "# category and is_fraud\n",
        "\n",
        "plt.figure(figsize= (10,6))\n",
        "data_train.groupby(\"category\")[\"is_fraud\"].mean().plot.bar()\n",
        "plt.show()"
      ]
    },
    {
      "cell_type": "markdown",
      "metadata": {
        "id": "XRrpLEfLB72V"
      },
      "source": [
        "Inference : Maximim fraudulent transactions are performed at merchants with category shopping_net\n",
        "\n"
      ]
    },
    {
      "cell_type": "code",
      "execution_count": null,
      "metadata": {
        "id": "oUA2NcdyB9Hw"
      },
      "outputs": [],
      "source": [
        "# gender and is_fraud\n",
        "\n",
        "plt.figure(figsize= (8,6))\n",
        "data_train.groupby(\"gender\")[\"is_fraud\"].mean().plot.bar()\n",
        "plt.show()"
      ]
    },
    {
      "cell_type": "code",
      "execution_count": null,
      "metadata": {
        "colab": {
          "base_uri": "https://localhost:8080/",
          "height": 395
        },
        "id": "_6uMenzkCEQg",
        "outputId": "1915239b-ae3b-4d03-f983-686c71499a6a"
      },
      "outputs": [
        {
          "output_type": "display_data",
          "data": {
            "text/plain": [
              "<Figure size 1080x432 with 1 Axes>"
            ],
            "image/png": "[encoded data removed]"
          },
          "metadata": {}
        }
      ],
      "source": [
        "# state and is_fraud\n",
        "\n",
        "plt.figure(figsize= (15,6))\n",
        "data_train.groupby(\"state\")[\"is_fraud\"].mean().plot.bar()\n",
        "plt.show()"
      ]
    },
    {
      "cell_type": "markdown",
      "metadata": {
        "id": "q2a_f_IcCNhs"
      },
      "source": [
        "Inference: Surprisingly, most of the transactions performed in Deleware (DE) are fraudulent, even though the number of actual transaction performed in Delaware(DE) are the least amongst all the states\n",
        "\n"
      ]
    },
    {
      "cell_type": "code",
      "execution_count": null,
      "metadata": {
        "colab": {
          "base_uri": "https://localhost:8080/",
          "height": 422
        },
        "id": "LmjTMpYICQV6",
        "outputId": "ec68179f-5b38-4d7d-f7ed-31ac0865b4b5"
      },
      "outputs": [
        {
          "output_type": "display_data",
          "data": {
            "text/plain": [
              "<Figure size 720x432 with 1 Axes>"
            ],
            "image/png": "[encoded data removed]"
          },
          "metadata": {}
        }
      ],
      "source": [
        "# Population_group and is_fraud\n",
        "\n",
        "plt.figure(figsize= (10,6))\n",
        "data_train.groupby(\"Population_group\")[\"is_fraud\"].mean().plot.bar()\n",
        "plt.show()"
      ]
    },
    {
      "cell_type": "code",
      "execution_count": null,
      "metadata": {
        "colab": {
          "base_uri": "https://localhost:8080/",
          "height": 420
        },
        "id": "dJ_tUMkJCXz8",
        "outputId": "f4442285-038b-46cd-b343-30a5049d3ce7"
      },
      "outputs": [
        {
          "output_type": "display_data",
          "data": {
            "text/plain": [
              "<Figure size 720x432 with 1 Axes>"
            ],
            "image/png": "[encoded data removed]"
          },
          "metadata": {}
        }
      ],
      "source": [
        "# dist_range_km and is_fraud\n",
        "\n",
        "plt.figure(figsize= (10,6))\n",
        "data_train.groupby(\"dist_range_km\")[\"is_fraud\"].mean().plot.bar()\n",
        "plt.show()"
      ]
    },
    {
      "cell_type": "markdown",
      "metadata": {
        "id": "HerZC04TCnmY"
      },
      "source": [
        "# Multivariate Analysis"
      ]
    },
    {
      "cell_type": "code",
      "execution_count": null,
      "metadata": {
        "colab": {
          "base_uri": "https://localhost:8080/",
          "height": 207
        },
        "id": "c2quOekdCqyo",
        "outputId": "138d81ec-2d43-41c2-9cbb-1574a4563344"
      },
      "outputs": [
        {
          "output_type": "execute_result",
          "data": {
            "text/plain": [
              "category  entertainment  food_dining  gas_transport  grocery_net  grocery_pos  health_fitness      home  kids_pets  misc_net  misc_pos  personal_care  shopping_net  shopping_pos    travel\n",
              "gender                                                                                                                                                                                     \n",
              "F              0.003030     0.002397       0.003509     0.002255     0.011481        0.002475  0.002757   0.003022  0.010999  0.003894       0.002933      0.012397      0.006737  0.003280\n",
              "M              0.001899     0.000813       0.006153     0.003816     0.017037        0.000517  0.000311   0.000977  0.018916  0.002280       0.001632      0.024332      0.007903  0.002453"
            ],
            "text/html": [
              "\n",
              "  <div id=\"df-bdbfa533-fd03-4d6b-ad66-f62bb3a253d4\">\n",
              "    <div class=\"colab-df-container\">\n",
              "      <div>\n",
              "<style scoped>\n",
              "    .dataframe tbody tr th:only-of-type {\n",
              "        vertical-align: middle;\n",
              "    }\n",
              "\n",
              "    .dataframe tbody tr th {\n",
              "        vertical-align: top;\n",
              "    }\n",
              "\n",
              "    .dataframe thead th {\n",
              "        text-align: right;\n",
              "    }\n",
              "</style>\n",
              "<table border=\"1\" class=\"dataframe\">\n",
              "  <thead>\n",
              "    <tr style=\"text-align: right;\">\n",
              "      <th>category</th>\n",
              "      <th>entertainment</th>\n",
              "      <th>food_dining</th>\n",
              "      <th>gas_transport</th>\n",
              "      <th>grocery_net</th>\n",
              "      <th>grocery_pos</th>\n",
              "      <th>health_fitness</th>\n",
              "      <th>home</th>\n",
              "      <th>kids_pets</th>\n",
              "      <th>misc_net</th>\n",
              "      <th>misc_pos</th>\n",
              "      <th>personal_care</th>\n",
              "      <th>shopping_net</th>\n",
              "      <th>shopping_pos</th>\n",
              "      <th>travel</th>\n",
              "    </tr>\n",
              "    <tr>\n",
              "      <th>gender</th>\n",
              "      <th></th>\n",
              "      <th></th>\n",
              "      <th></th>\n",
              "      <th></th>\n",
              "      <th></th>\n",
              "      <th></th>\n",
              "      <th></th>\n",
              "      <th></th>\n",
              "      <th></th>\n",
              "      <th></th>\n",
              "      <th></th>\n",
              "      <th></th>\n",
              "      <th></th>\n",
              "      <th></th>\n",
              "    </tr>\n",
              "  </thead>\n",
              "  <tbody>\n",
              "    <tr>\n",
              "      <th>F</th>\n",
              "      <td>0.003030</td>\n",
              "      <td>0.002397</td>\n",
              "      <td>0.003509</td>\n",
              "      <td>0.002255</td>\n",
              "      <td>0.011481</td>\n",
              "      <td>0.002475</td>\n",
              "      <td>0.002757</td>\n",
              "      <td>0.003022</td>\n",
              "      <td>0.010999</td>\n",
              "      <td>0.003894</td>\n",
              "      <td>0.002933</td>\n",
              "      <td>0.012397</td>\n",
              "      <td>0.006737</td>\n",
              "      <td>0.003280</td>\n",
              "    </tr>\n",
              "    <tr>\n",
              "      <th>M</th>\n",
              "      <td>0.001899</td>\n",
              "      <td>0.000813</td>\n",
              "      <td>0.006153</td>\n",
              "      <td>0.003816</td>\n",
              "      <td>0.017037</td>\n",
              "      <td>0.000517</td>\n",
              "      <td>0.000311</td>\n",
              "      <td>0.000977</td>\n",
              "      <td>0.018916</td>\n",
              "      <td>0.002280</td>\n",
              "      <td>0.001632</td>\n",
              "      <td>0.024332</td>\n",
              "      <td>0.007903</td>\n",
              "      <td>0.002453</td>\n",
              "    </tr>\n",
              "  </tbody>\n",
              "</table>\n",
              "</div>\n",
              "      <button class=\"colab-df-convert\" onclick=\"convertToInteractive('df-bdbfa533-fd03-4d6b-ad66-f62bb3a253d4')\"\n",
              "              title=\"Convert this dataframe to an interactive table.\"\n",
              "              style=\"display:none;\">\n",
              "        \n",
              "  <svg xmlns=\"http://www.w3.org/2000/svg\" height=\"24px\"viewBox=\"0 0 24 24\"\n",
              "       width=\"24px\">\n",
              "    <path d=\"M0 0h24v24H0V0z\" fill=\"none\"/>\n",
              "    <path d=\"M18.56 5.44l.94 2.06.94-2.06 2.06-.94-2.06-.94-.94-2.06-.94 2.06-2.06.94zm-11 1L8.5 8.5l.94-2.06 2.06-.94-2.06-.94L8.5 2.5l-.94 2.06-2.06.94zm10 10l.94 2.06.94-2.06 2.06-.94-2.06-.94-.94-2.06-.94 2.06-2.06.94z\"/><path d=\"M17.41 7.96l-1.37-1.37c-.4-.4-.92-.59-1.43-.59-.52 0-1.04.2-1.43.59L10.3 9.45l-7.72 7.72c-.78.78-.78 2.05 0 2.83L4 21.41c.39.39.9.59 1.41.59.51 0 1.02-.2 1.41-.59l7.78-7.78 2.81-2.81c.8-.78.8-2.07 0-2.86zM5.41 20L4 18.59l7.72-7.72 1.47 1.35L5.41 20z\"/>\n",
              "  </svg>\n",
              "      </button>\n",
              "      \n",
              "  <style>\n",
              "    .colab-df-container {\n",
              "      display:flex;\n",
              "      flex-wrap:wrap;\n",
              "      gap: 12px;\n",
              "    }\n",
              "\n",
              "    .colab-df-convert {\n",
              "      background-color: #E8F0FE;\n",
              "      border: none;\n",
              "      border-radius: 50%;\n",
              "      cursor: pointer;\n",
              "      display: none;\n",
              "      fill: #1967D2;\n",
              "      height: 32px;\n",
              "      padding: 0 0 0 0;\n",
              "      width: 32px;\n",
              "    }\n",
              "\n",
              "    .colab-df-convert:hover {\n",
              "      background-color: #E2EBFA;\n",
              "      box-shadow: 0px 1px 2px rgba(60, 64, 67, 0.3), 0px 1px 3px 1px rgba(60, 64, 67, 0.15);\n",
              "      fill: #174EA6;\n",
              "    }\n",
              "\n",
              "    [theme=dark] .colab-df-convert {\n",
              "      background-color: #3B4455;\n",
              "      fill: #D2E3FC;\n",
              "    }\n",
              "\n",
              "    [theme=dark] .colab-df-convert:hover {\n",
              "      background-color: #434B5C;\n",
              "      box-shadow: 0px 1px 3px 1px rgba(0, 0, 0, 0.15);\n",
              "      filter: drop-shadow(0px 1px 2px rgba(0, 0, 0, 0.3));\n",
              "      fill: #FFFFFF;\n",
              "    }\n",
              "  </style>\n",
              "\n",
              "      <script>\n",
              "        const buttonEl =\n",
              "          document.querySelector('#df-bdbfa533-fd03-4d6b-ad66-f62bb3a253d4 button.colab-df-convert');\n",
              "        buttonEl.style.display =\n",
              "          google.colab.kernel.accessAllowed ? 'block' : 'none';\n",
              "\n",
              "        async function convertToInteractive(key) {\n",
              "          const element = document.querySelector('#df-bdbfa533-fd03-4d6b-ad66-f62bb3a253d4');\n",
              "          const dataTable =\n",
              "            await google.colab.kernel.invokeFunction('convertToInteractive',\n",
              "                                                     [key], {});\n",
              "          if (!dataTable) return;\n",
              "\n",
              "          const docLinkHtml = 'Like what you see? Visit the ' +\n",
              "            '<a target=\"_blank\" href=https://colab.research.google.com/notebooks/data_table.ipynb>data table notebook</a>'\n",
              "            + ' to learn more about interactive tables.';\n",
              "          element.innerHTML = '';\n",
              "          dataTable['output_type'] = 'display_data';\n",
              "          await google.colab.output.renderOutput(dataTable, element);\n",
              "          const docLink = document.createElement('div');\n",
              "          docLink.innerHTML = docLinkHtml;\n",
              "          element.appendChild(docLink);\n",
              "        }\n",
              "      </script>\n",
              "    </div>\n",
              "  </div>\n",
              "  "
            ]
          },
          "metadata": {},
          "execution_count": 64
        }
      ],
      "source": [
        "#category v/s gender Type v/s is_fraud\n",
        "pivot1 = pd.pivot_table(data = data_train, index = \"gender\", columns = \"category\", values = \"is_fraud\")\n",
        "pivot1"
      ]
    },
    {
      "cell_type": "code",
      "execution_count": null,
      "metadata": {
        "colab": {
          "base_uri": "https://localhost:8080/",
          "height": 341
        },
        "id": "lLQsVgeSC9xR",
        "outputId": "c5607e1a-f24e-4f09-d3d6-5709fd532348"
      },
      "outputs": [
        {
          "output_type": "display_data",
          "data": {
            "text/plain": [
              "<Figure size 576x288 with 2 Axes>"
            ],
            "image/png": "[encoded data removed]"
          },
          "metadata": {}
        }
      ],
      "source": [
        "plt.figure(figsize= (8,4))\n",
        "sns.heatmap(pivot1, cmap = \"Greens\", annot = True)\n",
        "plt.show()"
      ]
    },
    {
      "cell_type": "markdown",
      "metadata": {
        "id": "4PkpCAlUDNLg"
      },
      "source": [
        "Inference: Most fraudulent transactions are performed by males in the category shopping_net\n",
        "\n"
      ]
    },
    {
      "cell_type": "code",
      "execution_count": null,
      "metadata": {
        "id": "PvgpKp84DJEV"
      },
      "outputs": [],
      "source": [
        "#state v/s gender Type v/s is_fraud\n",
        "pivot2 = pd.pivot_table(data = data_train, index = \"state\", columns = \"gender\", values = \"is_fraud\")\n",
        "pivot2"
      ]
    },
    {
      "cell_type": "code",
      "execution_count": null,
      "metadata": {
        "id": "5X6b2umtDXex"
      },
      "outputs": [],
      "source": [
        "plt.figure(figsize= (10,15))\n",
        "sns.heatmap(pivot2, cmap = \"Greens\", annot = True)\n",
        "plt.show()"
      ]
    },
    {
      "cell_type": "markdown",
      "metadata": {
        "id": "VCMdzi2RDmWJ"
      },
      "source": [
        "Inference : 100% transactions performed in the states DE and NV are performed by females and are fraudulent.\n",
        "\n"
      ]
    },
    {
      "cell_type": "code",
      "execution_count": null,
      "metadata": {
        "id": "UpEbomNzDnof"
      },
      "outputs": [],
      "source": [
        "#age_group v/s gender Type v/s is_fraud\n",
        "pivot3 = pd.pivot_table(data = data_train, index = \"age_group\", columns = \"gender\", values = \"is_fraud\")\n",
        "pivot3"
      ]
    },
    {
      "cell_type": "code",
      "execution_count": null,
      "metadata": {
        "colab": {
          "base_uri": "https://localhost:8080/",
          "height": 279
        },
        "id": "YERbbzleDwzr",
        "outputId": "48bbd4cc-5a97-4421-e9fc-9b0c5ead0527"
      },
      "outputs": [
        {
          "output_type": "display_data",
          "data": {
            "text/plain": [
              "<Figure size 576x288 with 2 Axes>"
            ],
            "image/png": "[encoded data removed]"
          },
          "metadata": {}
        }
      ],
      "source": [
        "plt.figure(figsize= (8,4))\n",
        "sns.heatmap(pivot3, cmap = \"Greens\", annot = True)\n",
        "plt.show()"
      ]
    },
    {
      "cell_type": "markdown",
      "metadata": {
        "id": "GuCP9nzFOkgP"
      },
      "source": [
        "Inference : Transactions performed by 80+ years males are may be fraudulent.\n",
        "\n"
      ]
    },
    {
      "cell_type": "code",
      "execution_count": null,
      "metadata": {
        "id": "Y4kiYx2COlBc"
      },
      "outputs": [],
      "source": [
        "#Population_group v/s dist_range_km Type v/s is_fraud\n",
        "pivot4 = pd.pivot_table(data = data_train, index = \"dist_range_km\", columns = \"Population_group\", values = \"is_fraud\")\n",
        "pivot4\n"
      ]
    },
    {
      "cell_type": "code",
      "execution_count": null,
      "metadata": {
        "colab": {
          "base_uri": "https://localhost:8080/",
          "height": 502
        },
        "id": "ZATLdzGvOtfy",
        "outputId": "c448403f-d769-48a9-87d0-3133fcc90e7f"
      },
      "outputs": [
        {
          "output_type": "display_data",
          "data": {
            "text/plain": [
              "<Figure size 720x576 with 2 Axes>"
            ],
            "image/png": "[encoded data removed]"
          },
          "metadata": {}
        }
      ],
      "source": [
        "plt.figure(figsize= (10,8))\n",
        "sns.heatmap(pivot4, cmap = \"Greens\", annot = True)\n",
        "plt.show()"
      ]
    },
    {
      "cell_type": "markdown",
      "metadata": {
        "id": "cscuXXe8PPRU"
      },
      "source": [
        "Inference : There should be a check on transactions performed at a distance of 250-300 kms from customer location in areas with population range 20-25 lacs\n",
        "\n"
      ]
    },
    {
      "cell_type": "code",
      "execution_count": null,
      "metadata": {
        "id": "znSL5FfqPLAF"
      },
      "outputs": [],
      "source": [
        "#year v/s month Type v/s is_fraud\n",
        "pivot5 = pd.pivot_table(data = data_train, index = \"month\", columns = \"year\", values = \"is_fraud\")\n",
        "pivot5"
      ]
    },
    {
      "cell_type": "code",
      "execution_count": null,
      "metadata": {
        "colab": {
          "base_uri": "https://localhost:8080/",
          "height": 388
        },
        "id": "es-tT5ZqPUQ0",
        "outputId": "9d94b917-749f-40c6-9f15-2811274dcc2c"
      },
      "outputs": [
        {
          "output_type": "display_data",
          "data": {
            "text/plain": [
              "<Figure size 720x432 with 2 Axes>"
            ],
            "image/png": "[encoded data removed]"
          },
          "metadata": {}
        }
      ],
      "source": [
        "plt.figure(figsize= (10,6))\n",
        "sns.heatmap(pivot5, cmap = \"Greens\", annot = True)\n",
        "plt.show()"
      ]
    },
    {
      "cell_type": "markdown",
      "metadata": {
        "id": "owz2OJ07Pa2-"
      },
      "source": [
        "Inference : Most fraudulent transactions are performed in Jan and Feb 2019.\n",
        "\n"
      ]
    },
    {
      "cell_type": "code",
      "execution_count": null,
      "metadata": {
        "id": "NQkPKE8VPbej"
      },
      "outputs": [],
      "source": [
        "#age_group v/s dist_range_km Type v/s is_fraud\n",
        "pivot6 = pd.pivot_table(data = data_train, index = \"age_group\", columns = \"dist_range_km\", values = \"is_fraud\")\n",
        "pivot6"
      ]
    },
    {
      "cell_type": "code",
      "execution_count": null,
      "metadata": {
        "colab": {
          "base_uri": "https://localhost:8080/",
          "height": 389
        },
        "id": "cbM2MOYzPgrw",
        "outputId": "c84e3f68-8daa-489f-ec9b-58ef40ffb3ad"
      },
      "outputs": [
        {
          "output_type": "display_data",
          "data": {
            "text/plain": [
              "<Figure size 720x432 with 2 Axes>"
            ],
            "image/png": "[encoded data removed]"
          },
          "metadata": {}
        }
      ],
      "source": [
        "plt.figure(figsize= (10,6))\n",
        "sns.heatmap(pivot6, cmap = \"Greens\", annot = True)\n",
        "plt.show()"
      ]
    },
    {
      "cell_type": "markdown",
      "metadata": {
        "id": "WkXX_v3UPmGS"
      },
      "source": [
        "Inference: Transactions performed by 80+ ages customers at a distance of 200-250 kms from customer location should be scrutinized as they indicate fraud\n",
        "\n"
      ]
    },
    {
      "cell_type": "code",
      "execution_count": null,
      "metadata": {
        "id": "FNb8fcn6Pmqr"
      },
      "outputs": [],
      "source": [
        "#transaction_hour v/s dist_range_km Type v/s is_fraud\n",
        "pivot9 = pd.pivot_table(data = data_train, index = \"transaction_hour\", columns = \"dist_range_km\", values = \"is_fraud\")\n",
        "pivot9"
      ]
    },
    {
      "cell_type": "code",
      "execution_count": null,
      "metadata": {
        "id": "VIP3fMSePsKz"
      },
      "outputs": [],
      "source": [
        "plt.figure(figsize= (10,6))\n",
        "sns.heatmap(pivot9, cmap = \"Greens\", annot = True)\n",
        "plt.show()"
      ]
    },
    {
      "cell_type": "markdown",
      "metadata": {
        "id": "Vd70cuO_Pw_2"
      },
      "source": [
        "Inference : Transactions performed at odd hours irrespective of distance from customer location indicate fraud\n",
        "\n"
      ]
    },
    {
      "cell_type": "markdown",
      "metadata": {
        "id": "VzZWnbb_Pz-c"
      },
      "source": [
        "# Check Skewness in data "
      ]
    },
    {
      "cell_type": "code",
      "execution_count": null,
      "metadata": {
        "id": "DC4-uAJ1Pxfz"
      },
      "outputs": [],
      "source": [
        "data_train.describe()\n"
      ]
    },
    {
      "cell_type": "code",
      "execution_count": null,
      "metadata": {
        "id": "Q1LZ38MnQhLj"
      },
      "outputs": [],
      "source": [
        "cols = ['amt', 'age', 'distance']\n"
      ]
    },
    {
      "cell_type": "code",
      "execution_count": null,
      "metadata": {
        "colab": {
          "base_uri": "https://localhost:8080/",
          "height": 434
        },
        "id": "3b0xL8qSQn_D",
        "outputId": "69bb2843-2453-4bd3-b1a1-d172f4c61f15"
      },
      "outputs": [
        {
          "output_type": "display_data",
          "data": {
            "text/plain": [
              "<Figure size 1440x504 with 3 Axes>"
            ],
            "image/png": "[encoded data removed]"
          },
          "metadata": {}
        }
      ],
      "source": [
        "plt.figure(figsize=[20,7])\n",
        "for ind, col in enumerate(cols):\n",
        "    plt.subplot(2,2,ind+1)\n",
        "    data_train[col].value_counts(normalize=True).plot.hist()\n",
        "    plt.title(col)\n",
        "plt.show()"
      ]
    },
    {
      "cell_type": "code",
      "execution_count": null,
      "metadata": {
        "colab": {
          "base_uri": "https://localhost:8080/",
          "height": 279
        },
        "id": "CQ_clnF5Qr04",
        "outputId": "c95f1bdb-65db-4e4d-81f3-b2224d43fef6"
      },
      "outputs": [
        {
          "output_type": "display_data",
          "data": {
            "text/plain": [
              "<Figure size 432x288 with 1 Axes>"
            ],
            "image/png": "[encoded data removed]"
          },
          "metadata": {}
        }
      ],
      "source": [
        "sns.distplot(data_train.amt)\n",
        "plt.show()"
      ]
    },
    {
      "cell_type": "markdown",
      "metadata": {
        "id": "c1iDMlAEQ700"
      },
      "source": [
        "Inference : We can see that amt variable is skewed.\n",
        "\n"
      ]
    },
    {
      "cell_type": "code",
      "execution_count": null,
      "metadata": {
        "colab": {
          "base_uri": "https://localhost:8080/",
          "height": 279
        },
        "id": "dSiRz3Y7Q03E",
        "outputId": "ee9746eb-74a3-42b4-a5c8-fa9f6ee1e3ab"
      },
      "outputs": [
        {
          "output_type": "display_data",
          "data": {
            "text/plain": [
              "<Figure size 432x288 with 1 Axes>"
            ],
            "image/png": "[encoded data removed]"
          },
          "metadata": {}
        }
      ],
      "source": [
        "# Applying Power Transaformation\n",
        "\n",
        "from sklearn.preprocessing import PowerTransformer\n",
        "\n",
        "pt = PowerTransformer()\n",
        "\n",
        "data_train['amt'] = pt.fit_transform(data_train[['amt']])\n",
        "\n",
        "sns.distplot(data_train.amt)\n",
        "plt.show()"
      ]
    },
    {
      "cell_type": "code",
      "execution_count": null,
      "metadata": {
        "colab": {
          "base_uri": "https://localhost:8080/",
          "height": 279
        },
        "id": "dPEe0yx2RASd",
        "outputId": "9a4ce936-47fa-48c2-f28e-bc80ce816f9b"
      },
      "outputs": [
        {
          "output_type": "display_data",
          "data": {
            "text/plain": [
              "<Figure size 432x288 with 1 Axes>"
            ],
            "image/png": "[encoded data removed]"
          },
          "metadata": {}
        }
      ],
      "source": [
        "sns.distplot(data_train.age)\n",
        "plt.show()"
      ]
    },
    {
      "cell_type": "markdown",
      "metadata": {
        "id": "OgBbZMELRTpJ"
      },
      "source": [
        "# Model building"
      ]
    },
    {
      "cell_type": "code",
      "execution_count": null,
      "metadata": {
        "id": "sklfkCSURMXt"
      },
      "outputs": [],
      "source": [
        "data_train.info()\n"
      ]
    },
    {
      "cell_type": "code",
      "execution_count": null,
      "metadata": {
        "id": "QlqKEpFCRlpE"
      },
      "outputs": [],
      "source": [
        "data_train.merchant.value_counts()\n"
      ]
    },
    {
      "cell_type": "code",
      "execution_count": null,
      "metadata": {
        "id": "8aPaQ7qLRp4k"
      },
      "outputs": [],
      "source": [
        "data_train.job.value_counts()\n"
      ]
    },
    {
      "cell_type": "code",
      "execution_count": null,
      "metadata": {
        "colab": {
          "base_uri": "https://localhost:8080/"
        },
        "id": "sfxF4N63RwnN",
        "outputId": "3487594f-0269-48d9-8eb7-64d51facfd1e"
      },
      "outputs": [
        {
          "output_type": "execute_result",
          "data": {
            "text/plain": [
              "494"
            ]
          },
          "metadata": {},
          "execution_count": 87
        }
      ],
      "source": [
        "len(data_train.job.value_counts())\n"
      ]
    },
    {
      "cell_type": "markdown",
      "metadata": {
        "id": "0l5XK8u9R7yZ"
      },
      "source": [
        "Removing Unwanted columns"
      ]
    },
    {
      "cell_type": "code",
      "execution_count": null,
      "metadata": {
        "id": "lATZaP5TR2kM"
      },
      "outputs": [],
      "source": [
        "data_train.drop(['trans_date_trans_time', \"lat\", \"long\", \"merch_lat\", \"merch_long\", \"Customer_name\", \"year\"], axis=1, inplace=True)\n"
      ]
    },
    {
      "cell_type": "code",
      "execution_count": null,
      "metadata": {
        "id": "wndSIy--SCjE"
      },
      "outputs": [],
      "source": [
        "data_train.drop([\"merchant\", \"city\", \"job\"], axis=1, inplace=True)\n"
      ]
    },
    {
      "cell_type": "code",
      "execution_count": null,
      "metadata": {
        "id": "mB2JJvleSFyz"
      },
      "outputs": [],
      "source": [
        "data_train.info()\n"
      ]
    },
    {
      "cell_type": "markdown",
      "metadata": {
        "id": "NhfEl82xSNsN"
      },
      "source": [
        "# Train Test Split\n",
        "\n"
      ]
    },
    {
      "cell_type": "code",
      "execution_count": null,
      "metadata": {
        "id": "qp4rwH7zSJAy"
      },
      "outputs": [],
      "source": [
        "#Peform the train test split \n",
        "train,test = train_test_split(data_train,test_size=0.3,random_state=42, stratify=data_train.is_fraud)\n"
      ]
    },
    {
      "cell_type": "code",
      "execution_count": null,
      "metadata": {
        "colab": {
          "base_uri": "https://localhost:8080/"
        },
        "id": "v7LwnocXSXUf",
        "outputId": "bc99fbb3-3412-4f39-e67c-935d8d270769"
      },
      "outputs": [
        {
          "output_type": "stream",
          "name": "stdout",
          "text": [
            "train data shape:(907672, 13)\n",
            "Test data shape:(389003, 13)\n"
          ]
        }
      ],
      "source": [
        "# check the training and testing data shape\n",
        "print(f\"train data shape:{train.shape}\")\n",
        "print(f\"Test data shape:{test.shape}\")"
      ]
    },
    {
      "cell_type": "code",
      "execution_count": null,
      "metadata": {
        "colab": {
          "base_uri": "https://localhost:8080/"
        },
        "id": "kXkET15QSe5k",
        "outputId": "e355a36c-74bd-4bbf-87d0-70f1298ec07c"
      },
      "outputs": [
        {
          "output_type": "execute_result",
          "data": {
            "text/plain": [
              "0    0.994212\n",
              "1    0.005788\n",
              "Name: is_fraud, dtype: float64"
            ]
          },
          "metadata": {},
          "execution_count": 93
        }
      ],
      "source": [
        "train.is_fraud.value_counts(normalize=True)\n"
      ]
    },
    {
      "cell_type": "code",
      "execution_count": null,
      "metadata": {
        "colab": {
          "base_uri": "https://localhost:8080/"
        },
        "id": "KqMUJLUCShQk",
        "outputId": "51107551-72d7-4f3c-dd17-de134b2350d5"
      },
      "outputs": [
        {
          "output_type": "execute_result",
          "data": {
            "text/plain": [
              "0    0.994211\n",
              "1    0.005789\n",
              "Name: is_fraud, dtype: float64"
            ]
          },
          "metadata": {},
          "execution_count": 94
        }
      ],
      "source": [
        "test.is_fraud.value_counts(normalize=True)\n"
      ]
    },
    {
      "cell_type": "code",
      "execution_count": null,
      "metadata": {
        "id": "7DIWSGa1Sjoc"
      },
      "outputs": [],
      "source": [
        "# segregate  X_train and y_train \n",
        "y_train = train.pop(\"is_fraud\")\n",
        "X_train = train"
      ]
    },
    {
      "cell_type": "code",
      "execution_count": null,
      "metadata": {
        "id": "1CO2AJzQSm8M"
      },
      "outputs": [],
      "source": [
        "# Segregate X_test and y_test\n",
        "y_test = test.pop(\"is_fraud\")\n",
        "X_test = test"
      ]
    },
    {
      "cell_type": "code",
      "execution_count": null,
      "metadata": {
        "id": "PGLmIANbSp5z"
      },
      "outputs": [],
      "source": [
        "X_train.head()\n"
      ]
    },
    {
      "cell_type": "markdown",
      "metadata": {
        "id": "YW1v7hUFS2uZ"
      },
      "source": [
        "# Creating Dummy variables"
      ]
    },
    {
      "cell_type": "code",
      "execution_count": null,
      "metadata": {
        "id": "b2i4_NwfSxfc"
      },
      "outputs": [],
      "source": [
        "X_train['transaction_hour']= X_train['transaction_hour'].astype(str)\n",
        "X_train['month']= X_train['month'].astype(str)\n",
        "\n"
      ]
    },
    {
      "cell_type": "code",
      "execution_count": null,
      "metadata": {
        "id": "phnzLJdnS8f7"
      },
      "outputs": [],
      "source": [
        "X_test['transaction_hour']= X_test['transaction_hour'].astype(str)\n",
        "\n",
        "X_test['month']= X_test['month'].astype(str)"
      ]
    },
    {
      "cell_type": "code",
      "execution_count": null,
      "metadata": {
        "id": "WDAEpubFS--E"
      },
      "outputs": [],
      "source": [
        "data_train.info()\n"
      ]
    },
    {
      "cell_type": "code",
      "execution_count": null,
      "metadata": {
        "id": "KzX0izDZTJqb"
      },
      "outputs": [],
      "source": [
        "cat_cols = [\"category\", \"state\", \"month\", \"day_of_week\", \"transaction_hour\", 'gender', 'Population_group','age_group', 'dist_range_km']\n"
      ]
    },
    {
      "cell_type": "code",
      "execution_count": null,
      "metadata": {
        "id": "30KSpllVTPBT"
      },
      "outputs": [],
      "source": [
        "dummy = pd.get_dummies(X_train[cat_cols], drop_first=True)\n"
      ]
    },
    {
      "cell_type": "code",
      "execution_count": null,
      "metadata": {
        "id": "NWUwMw_UTSG0"
      },
      "outputs": [],
      "source": [
        "# Adding the results to the master dataframe\n",
        "X_train = pd.concat([X_train, dummy], axis=1)"
      ]
    },
    {
      "cell_type": "code",
      "execution_count": null,
      "metadata": {
        "id": "yPvIIANVTVgb"
      },
      "outputs": [],
      "source": [
        "X_train.drop(cat_cols, axis=1, inplace=True)\n"
      ]
    },
    {
      "cell_type": "code",
      "execution_count": null,
      "metadata": {
        "id": "mukRnaaaTXir"
      },
      "outputs": [],
      "source": [
        "X_train.head()\n"
      ]
    },
    {
      "cell_type": "code",
      "execution_count": null,
      "metadata": {
        "id": "uA-i7y5cTZ4s"
      },
      "outputs": [],
      "source": [
        "X_train.drop(['age','distance'], axis=1, inplace=True)\n"
      ]
    },
    {
      "cell_type": "code",
      "execution_count": null,
      "metadata": {
        "id": "8hGUfXdPTgCr"
      },
      "outputs": [],
      "source": [
        "scaler = MinMaxScaler()\n",
        "\n",
        "scale_var = [\"amt\"]\n",
        "\n",
        "X_train[scale_var] = scaler.fit_transform(X_train[scale_var])  # Scaling of train set \n"
      ]
    },
    {
      "cell_type": "code",
      "execution_count": null,
      "metadata": {
        "id": "jqZ5fuRzTiss"
      },
      "outputs": [],
      "source": [
        "X_train.describe()  # Check if scaling is proper\n"
      ]
    },
    {
      "cell_type": "markdown",
      "metadata": {
        "id": "J73iHCYrTrNH"
      },
      "source": [
        "Dummy variable creation for X_test"
      ]
    },
    {
      "cell_type": "code",
      "execution_count": null,
      "metadata": {
        "id": "jGN9hlHCTnEK"
      },
      "outputs": [],
      "source": [
        "dummy1 = pd.get_dummies(X_test[cat_cols], drop_first=True)\n",
        "\n",
        "# Adding the results to the master dataframe\n",
        "X_test = pd.concat([X_test, dummy1], axis=1)\n",
        "\n",
        "X_test.drop(cat_cols, axis=1, inplace=True)"
      ]
    },
    {
      "cell_type": "code",
      "execution_count": null,
      "metadata": {
        "id": "dslEDfwhekef"
      },
      "outputs": [],
      "source": [
        "X_test.drop(['age','distance'], axis=1, inplace=True)\n"
      ]
    },
    {
      "cell_type": "code",
      "execution_count": null,
      "metadata": {
        "id": "RSWEwgxZem0P"
      },
      "outputs": [],
      "source": [
        "X_test[scale_var] = scaler.transform(X_test[scale_var])\n"
      ]
    },
    {
      "cell_type": "code",
      "execution_count": null,
      "metadata": {
        "id": "nc1RItkpepOL"
      },
      "outputs": [],
      "source": [
        "#Check heatmap for correlation\n",
        "\n",
        "plt.figure(figsize=(20,20))\n",
        "sns.heatmap(X_train.corr())\n",
        "plt.show()"
      ]
    },
    {
      "cell_type": "code",
      "execution_count": null,
      "metadata": {
        "colab": {
          "base_uri": "https://localhost:8080/"
        },
        "id": "fNkWNntZesbU",
        "outputId": "d759f069-434a-4d36-a450-2e839674a623"
      },
      "outputs": [
        {
          "output_type": "stream",
          "name": "stdout",
          "text": [
            "train data shape:(907672, 121)\n",
            "Test data shape:(389003, 121)\n"
          ]
        }
      ],
      "source": [
        "# check the training and testing data shape\n",
        "print(f\"train data shape:{X_train.shape}\")\n",
        "print(f\"Test data shape:{X_test.shape}\")"
      ]
    },
    {
      "cell_type": "markdown",
      "metadata": {
        "id": "Ct_1G_l2e0Qn"
      },
      "source": [
        "# feature selction "
      ]
    },
    {
      "cell_type": "code",
      "execution_count": null,
      "metadata": {
        "id": "COxfzQ4De3Gj"
      },
      "outputs": [],
      "source": [
        "# run random forest to get feature importance\n",
        "from sklearn.ensemble import RandomForestClassifier\n",
        "rf = RandomForestClassifier(n_estimators = 25).fit(X_train, y_train)\n",
        "\n",
        "feats = X_train.columns\n",
        "\n",
        "for feature in zip(feats, rf.feature_importances_):\n",
        "    print(feature)"
      ]
    },
    {
      "cell_type": "code",
      "execution_count": null,
      "metadata": {
        "id": "37zye2a5e84h"
      },
      "outputs": [],
      "source": [
        "imp_df = pd.DataFrame({\n",
        "    \"Varname\": X_train.columns,\n",
        "    \"Imp\": rf.feature_importances_\n",
        "})"
      ]
    },
    {
      "cell_type": "code",
      "execution_count": null,
      "metadata": {
        "id": "wUI9LVwMgGGi"
      },
      "outputs": [],
      "source": [
        "imp_df.sort_values(by=\"Imp\", ascending=False)\n"
      ]
    },
    {
      "cell_type": "code",
      "execution_count": null,
      "metadata": {
        "id": "Nt1jV5j3gJIu"
      },
      "outputs": [],
      "source": [
        "cols_for_model = ['amt', 'category_grocery_pos', 'transaction_hour_22', 'transaction_hour_23', 'category_gas_transport',\n",
        "                 'age_group_60-80', 'gender_M', 'age_group_25-40', 'age_group_40-60', 'category_misc_net', 'dist_range_km_150-200',\n",
        "                 'category_misc_pos', 'category_shopping_net', 'dist_range_km_100-150', 'day_of_week_Sunday', 'dist_range_km_200-250',\n",
        "                 'category_shopping_pos', 'age_group_80+', 'day_of_week_Saturday']"
      ]
    },
    {
      "cell_type": "code",
      "execution_count": null,
      "metadata": {
        "id": "lpkKA-EagTQy"
      },
      "outputs": [],
      "source": [
        "X_train = X_train[cols_for_model]\n"
      ]
    },
    {
      "cell_type": "code",
      "execution_count": null,
      "metadata": {
        "id": "-jcYXMb_gWR7"
      },
      "outputs": [],
      "source": [
        "X_test = X_test[cols_for_model]\n"
      ]
    },
    {
      "cell_type": "code",
      "execution_count": null,
      "metadata": {
        "colab": {
          "base_uri": "https://localhost:8080/"
        },
        "id": "9gODFvB-gYJT",
        "outputId": "db86fadd-8ca3-4004-f4d3-7d413ca6859e"
      },
      "outputs": [
        {
          "output_type": "execute_result",
          "data": {
            "text/plain": [
              "Index(['amt', 'category_grocery_pos', 'transaction_hour_22', 'transaction_hour_23', 'category_gas_transport', 'age_group_60-80', 'gender_M', 'age_group_25-40', 'age_group_40-60', 'category_misc_net', 'dist_range_km_150-200', 'category_misc_pos', 'category_shopping_net', 'dist_range_km_100-150', 'day_of_week_Sunday', 'dist_range_km_200-250', 'category_shopping_pos', 'age_group_80+', 'day_of_week_Saturday'], dtype='object')"
            ]
          },
          "metadata": {},
          "execution_count": 120
        }
      ],
      "source": [
        "X_train.columns\n"
      ]
    },
    {
      "cell_type": "markdown",
      "metadata": {
        "id": "wDMFr4L1gc-M"
      },
      "source": [
        "# Handling Imbalance class\n"
      ]
    },
    {
      "cell_type": "code",
      "execution_count": null,
      "metadata": {
        "id": "WOOOW7wlgaVc"
      },
      "outputs": [],
      "source": [
        "from sklearn.linear_model import LogisticRegression\n",
        "from sklearn.metrics import precision_score, recall_score, confusion_matrix, classification_report, accuracy_score, f1_score"
      ]
    },
    {
      "cell_type": "code",
      "execution_count": null,
      "metadata": {
        "colab": {
          "base_uri": "https://localhost:8080/"
        },
        "id": "x516H7XigiT8",
        "outputId": "357bd942-0ed6-4892-f9f8-6aa4a35457e4"
      },
      "outputs": [
        {
          "output_type": "stream",
          "name": "stdout",
          "text": [
            "train data shape:(907672, 19)\n",
            "Test data shape:(389003, 19)\n"
          ]
        }
      ],
      "source": [
        "# check the training and testing data shape\n",
        "print(f\"train data shape:{X_train.shape}\")\n",
        "print(f\"Test data shape:{X_test.shape}\")"
      ]
    },
    {
      "cell_type": "code",
      "execution_count": null,
      "metadata": {
        "id": "nmTQuugRgkpS"
      },
      "outputs": [],
      "source": [
        "print(y_train.value_counts())\n",
        "y_train.value_counts(normalize = True).reset_index()"
      ]
    },
    {
      "cell_type": "code",
      "execution_count": null,
      "metadata": {
        "id": "onzo9-J3gnV1"
      },
      "outputs": [],
      "source": [
        "print(y_test.value_counts())\n",
        "y_test.value_counts(normalize = True).reset_index()\n"
      ]
    },
    {
      "cell_type": "markdown",
      "metadata": {
        "id": "55002wZUgx18"
      },
      "source": [
        "# Logistic Regression\n",
        "\n"
      ]
    },
    {
      "cell_type": "code",
      "execution_count": null,
      "metadata": {
        "colab": {
          "base_uri": "https://localhost:8080/",
          "height": 75
        },
        "id": "b-h1w3axg1aT",
        "outputId": "eb7fc43f-08b3-4396-c4ef-93f17fd07eda"
      },
      "outputs": [
        {
          "output_type": "execute_result",
          "data": {
            "text/plain": [
              "LogisticRegression()"
            ],
            "text/html": [
              "<style>#sk-container-id-1 {color: black;background-color: white;}#sk-container-id-1 pre{padding: 0;}#sk-container-id-1 div.sk-toggleable {background-color: white;}#sk-container-id-1 label.sk-toggleable__label {cursor: pointer;display: block;width: 100%;margin-bottom: 0;padding: 0.3em;box-sizing: border-box;text-align: center;}#sk-container-id-1 label.sk-toggleable__label-arrow:before {content: \"▸\";float: left;margin-right: 0.25em;color: #696969;}#sk-container-id-1 label.sk-toggleable__label-arrow:hover:before {color: black;}#sk-container-id-1 div.sk-estimator:hover label.sk-toggleable__label-arrow:before {color: black;}#sk-container-id-1 div.sk-toggleable__content {max-height: 0;max-width: 0;overflow: hidden;text-align: left;background-color: #f0f8ff;}#sk-container-id-1 div.sk-toggleable__content pre {margin: 0.2em;color: black;border-radius: 0.25em;background-color: #f0f8ff;}#sk-container-id-1 input.sk-toggleable__control:checked~div.sk-toggleable__content {max-height: 200px;max-width: 100%;overflow: auto;}#sk-container-id-1 input.sk-toggleable__control:checked~label.sk-toggleable__label-arrow:before {content: \"▾\";}#sk-container-id-1 div.sk-estimator input.sk-toggleable__control:checked~label.sk-toggleable__label {background-color: #d4ebff;}#sk-container-id-1 div.sk-label input.sk-toggleable__control:checked~label.sk-toggleable__label {background-color: #d4ebff;}#sk-container-id-1 input.sk-hidden--visually {border: 0;clip: rect(1px 1px 1px 1px);clip: rect(1px, 1px, 1px, 1px);height: 1px;margin: -1px;overflow: hidden;padding: 0;position: absolute;width: 1px;}#sk-container-id-1 div.sk-estimator {font-family: monospace;background-color: #f0f8ff;border: 1px dotted black;border-radius: 0.25em;box-sizing: border-box;margin-bottom: 0.5em;}#sk-container-id-1 div.sk-estimator:hover {background-color: #d4ebff;}#sk-container-id-1 div.sk-parallel-item::after {content: \"\";width: 100%;border-bottom: 1px solid gray;flex-grow: 1;}#sk-container-id-1 div.sk-label:hover label.sk-toggleable__label {background-color: #d4ebff;}#sk-container-id-1 div.sk-serial::before {content: \"\";position: absolute;border-left: 1px solid gray;box-sizing: border-box;top: 0;bottom: 0;left: 50%;z-index: 0;}#sk-container-id-1 div.sk-serial {display: flex;flex-direction: column;align-items: center;background-color: white;padding-right: 0.2em;padding-left: 0.2em;position: relative;}#sk-container-id-1 div.sk-item {position: relative;z-index: 1;}#sk-container-id-1 div.sk-parallel {display: flex;align-items: stretch;justify-content: center;background-color: white;position: relative;}#sk-container-id-1 div.sk-item::before, #sk-container-id-1 div.sk-parallel-item::before {content: \"\";position: absolute;border-left: 1px solid gray;box-sizing: border-box;top: 0;bottom: 0;left: 50%;z-index: -1;}#sk-container-id-1 div.sk-parallel-item {display: flex;flex-direction: column;z-index: 1;position: relative;background-color: white;}#sk-container-id-1 div.sk-parallel-item:first-child::after {align-self: flex-end;width: 50%;}#sk-container-id-1 div.sk-parallel-item:last-child::after {align-self: flex-start;width: 50%;}#sk-container-id-1 div.sk-parallel-item:only-child::after {width: 0;}#sk-container-id-1 div.sk-dashed-wrapped {border: 1px dashed gray;margin: 0 0.4em 0.5em 0.4em;box-sizing: border-box;padding-bottom: 0.4em;background-color: white;}#sk-container-id-1 div.sk-label label {font-family: monospace;font-weight: bold;display: inline-block;line-height: 1.2em;}#sk-container-id-1 div.sk-label-container {text-align: center;}#sk-container-id-1 div.sk-container {/* jupyter's `normalize.less` sets `[hidden] { display: none; }` but bootstrap.min.css set `[hidden] { display: none !important; }` so we also need the `!important` here to be able to override the default hidden behavior on the sphinx rendered scikit-learn.org. See: https://github.com/scikit-learn/scikit-learn/issues/21755 */display: inline-block !important;position: relative;}#sk-container-id-1 div.sk-text-repr-fallback {display: none;}</style><div id=\"sk-container-id-1\" class=\"sk-top-container\"><div class=\"sk-text-repr-fallback\"><pre>LogisticRegression()</pre><b>In a Jupyter environment, please rerun this cell to show the HTML representation or trust the notebook. <br />On GitHub, the HTML representation is unable to render, please try loading this page with nbviewer.org.</b></div><div class=\"sk-container\" hidden><div class=\"sk-item\"><div class=\"sk-estimator sk-toggleable\"><input class=\"sk-toggleable__control sk-hidden--visually\" id=\"sk-estimator-id-1\" type=\"checkbox\" checked><label for=\"sk-estimator-id-1\" class=\"sk-toggleable__label sk-toggleable__label-arrow\">LogisticRegression</label><div class=\"sk-toggleable__content\"><pre>LogisticRegression()</pre></div></div></div></div></div>"
            ]
          },
          "metadata": {},
          "execution_count": 125
        }
      ],
      "source": [
        "# Base model\n",
        "lreg = LogisticRegression()\n",
        "lreg.fit(X_train, y_train)"
      ]
    },
    {
      "cell_type": "code",
      "execution_count": null,
      "metadata": {
        "id": "vcFek4vmg390"
      },
      "outputs": [],
      "source": [
        "y_pred = lreg.predict(X_test)\n"
      ]
    },
    {
      "cell_type": "code",
      "execution_count": null,
      "metadata": {
        "colab": {
          "base_uri": "https://localhost:8080/"
        },
        "id": "Se7O0JUYg9zb",
        "outputId": "04bbb2cf-e9cd-4532-db49-d039779c2c2e"
      },
      "outputs": [
        {
          "output_type": "stream",
          "name": "stdout",
          "text": [
            "Accuracy:  0.9955990056631954\n",
            "F1 score:  0.438688524590164\n",
            "Recall:  0.29706927175843695\n",
            "Precision:  0.8383458646616542\n",
            "\n",
            " clasification report:\n",
            "               precision    recall  f1-score   support\n",
            "\n",
            "           0       1.00      1.00      1.00    386751\n",
            "           1       0.84      0.30      0.44      2252\n",
            "\n",
            "    accuracy                           1.00    389003\n",
            "   macro avg       0.92      0.65      0.72    389003\n",
            "weighted avg       1.00      1.00      0.99    389003\n",
            "\n",
            "\n",
            " confussion matrix:\n",
            " [[386622    129]\n",
            " [  1583    669]]\n"
          ]
        }
      ],
      "source": [
        "print ('Accuracy: ', accuracy_score(y_test, y_pred))\n",
        "print ('F1 score: ', f1_score(y_test, y_pred))\n",
        "print ('Recall: ', recall_score(y_test, y_pred))\n",
        "print ('Precision: ', precision_score(y_test, y_pred))\n",
        "print ('\\n clasification report:\\n', classification_report(y_test,y_pred))\n",
        "print ('\\n confussion matrix:\\n',confusion_matrix(y_test, y_pred))\n"
      ]
    },
    {
      "cell_type": "markdown",
      "metadata": {
        "id": "xJNpQUJ5hJnz"
      },
      "source": [
        "We can handle imbalanced classes by balancing the classes by increasing minority or decreasing majority.\n",
        "\n",
        "We can do that by following few techniques\n",
        "\n",
        "Random Under-Sampling\n",
        "Random Over-Sampling\n",
        "SMOTE - Synthetic Minority Oversampling Technique\n",
        "ADASYN - Adaptive Synthetic Sampling Method\n",
        "SMOTETomek - Over-sampling followed by under-sampling\n",
        "Unddersampling tends to loss of data so we will not use that. We will go with Random Over-Sampling, SMOTE - Synthetic Minority Oversampling Technique, ADASYN - Adaptive Synthetic Sampling Method and see which technique works better."
      ]
    },
    {
      "cell_type": "code",
      "execution_count": null,
      "metadata": {
        "id": "NKs6eVvfhBTZ"
      },
      "outputs": [],
      "source": [
        "pip install imbalanced-learn\n"
      ]
    },
    {
      "cell_type": "markdown",
      "metadata": {
        "id": "oJ5ClbnchSlT"
      },
      "source": [
        "Random Over-Sampling\n",
        "\n",
        "Randomly add more minority observations by replication\n",
        "No information loss\n",
        "Prone to overfitting due to copying same information\n"
      ]
    },
    {
      "cell_type": "code",
      "execution_count": null,
      "metadata": {
        "colab": {
          "base_uri": "https://localhost:8080/"
        },
        "id": "bOvy--obhQpx",
        "outputId": "ca546985-7882-4444-9253-b95a4f0f7dda"
      },
      "outputs": [
        {
          "output_type": "execute_result",
          "data": {
            "text/plain": [
              "1804836"
            ]
          },
          "metadata": {},
          "execution_count": 129
        }
      ],
      "source": [
        "# Random OverSampling\n",
        "from imblearn.over_sampling import RandomOverSampler\n",
        "over_sample = RandomOverSampler(sampling_strategy = 1)\n",
        "X_resampled_os, y_resampled_os = over_sample.fit_resample(X_train, y_train)\n",
        "len(X_resampled_os)"
      ]
    },
    {
      "cell_type": "code",
      "execution_count": null,
      "metadata": {
        "colab": {
          "base_uri": "https://localhost:8080/"
        },
        "id": "_RK0gWDQhWDD",
        "outputId": "f62ba00a-4652-42c1-995a-afcac076b6c0"
      },
      "outputs": [
        {
          "output_type": "stream",
          "name": "stdout",
          "text": [
            "[(0, 902418), (1, 902418)]\n"
          ]
        }
      ],
      "source": [
        "from collections import Counter\n",
        "print(sorted(Counter(y_resampled_os).items()))"
      ]
    },
    {
      "cell_type": "code",
      "execution_count": null,
      "metadata": {
        "id": "qA56YRKzhbIU"
      },
      "outputs": [],
      "source": [
        "lreg_os = LogisticRegression()\n",
        "lreg_os.fit(X_resampled_os, y_resampled_os)\n",
        "\n",
        "y_pred_os = lreg_os.predict(X_test)\n"
      ]
    },
    {
      "cell_type": "code",
      "execution_count": null,
      "metadata": {
        "colab": {
          "base_uri": "https://localhost:8080/"
        },
        "id": "jvFiE0fDhhHj",
        "outputId": "81413af2-ceea-4a12-f5da-43c008acde11"
      },
      "outputs": [
        {
          "output_type": "stream",
          "name": "stdout",
          "text": [
            "Accuracy:  0.7671534666827762\n",
            "F1 score:  0.03906216847018884\n",
            "Recall:  0.8174955595026643\n",
            "Precision:  0.02000912964090079\n",
            "\n",
            " clasification report:\n",
            "               precision    recall  f1-score   support\n",
            "\n",
            "           0       1.00      0.77      0.87    386751\n",
            "           1       0.02      0.82      0.04      2252\n",
            "\n",
            "    accuracy                           0.77    389003\n",
            "   macro avg       0.51      0.79      0.45    389003\n",
            "weighted avg       0.99      0.77      0.86    389003\n",
            "\n",
            "\n",
            " confussion matrix:\n",
            " [[296584  90167]\n",
            " [   411   1841]]\n"
          ]
        }
      ],
      "source": [
        "print ('Accuracy: ', accuracy_score(y_test, y_pred_os))\n",
        "print ('F1 score: ', f1_score(y_test, y_pred_os))\n",
        "print ('Recall: ', recall_score(y_test, y_pred_os))\n",
        "print ('Precision: ', precision_score(y_test, y_pred_os))\n",
        "print ('\\n clasification report:\\n', classification_report(y_test,y_pred_os))\n",
        "print ('\\n confussion matrix:\\n',confusion_matrix(y_test, y_pred_os))"
      ]
    },
    {
      "cell_type": "markdown",
      "metadata": {
        "id": "fzWts5mmhwtd"
      },
      "source": [
        "SMOTE - Synthetic Minority Oversampling Technique Creates new \"Synthetic\" observations\n",
        "\n",
        "Process: -\n",
        "\n",
        "Identify the feature vector and its nearest neighbour\n",
        "Take the difference between the two\n",
        "Multiply the difference with a random number between 0 and 1\n",
        "Identify a new point on the line segment by adding the random number to feature vector\n",
        "Repeat the process for identified feature vectors"
      ]
    },
    {
      "cell_type": "code",
      "execution_count": null,
      "metadata": {
        "colab": {
          "base_uri": "https://localhost:8080/"
        },
        "id": "mJ7TU6n3hqQ_",
        "outputId": "47bfb488-d49e-42fa-eb8d-a6b56ff64482"
      },
      "outputs": [
        {
          "output_type": "execute_result",
          "data": {
            "text/plain": [
              "1804836"
            ]
          },
          "metadata": {},
          "execution_count": 133
        }
      ],
      "source": [
        "# SMOTE\n",
        "from imblearn.over_sampling import SMOTE\n",
        "smt = SMOTE(random_state=45, k_neighbors=5)\n",
        "X_resampled_smt, y_resampled_smt = smt.fit_resample(X_train, y_train)\n",
        "len(X_resampled_smt)"
      ]
    },
    {
      "cell_type": "code",
      "execution_count": null,
      "metadata": {
        "colab": {
          "base_uri": "https://localhost:8080/"
        },
        "id": "09iPeiGPh1P1",
        "outputId": "bb555f9c-ab98-4f91-f558-137b3c8418dd"
      },
      "outputs": [
        {
          "output_type": "stream",
          "name": "stdout",
          "text": [
            "[(0, 902418), (1, 902418)]\n"
          ]
        }
      ],
      "source": [
        "print(sorted(Counter(y_resampled_smt).items()))\n"
      ]
    },
    {
      "cell_type": "code",
      "execution_count": null,
      "metadata": {
        "id": "ZbmwjuKrh3FZ"
      },
      "outputs": [],
      "source": [
        "lreg_smt = LogisticRegression()\n",
        "lreg_smt.fit(X_resampled_smt, y_resampled_smt)\n",
        "\n",
        "y_pred_smt = lreg_smt.predict(X_test)"
      ]
    },
    {
      "cell_type": "code",
      "execution_count": null,
      "metadata": {
        "colab": {
          "base_uri": "https://localhost:8080/"
        },
        "id": "d6CVT-Qwh408",
        "outputId": "fb04cc4d-2046-4452-d59e-0604c80a7ae4"
      },
      "outputs": [
        {
          "output_type": "stream",
          "name": "stdout",
          "text": [
            "Accuracy:  0.7747575211502225\n",
            "F1 score:  0.0406639367595857\n",
            "Recall:  0.8246003552397868\n",
            "Precision:  0.020845962147235133\n",
            "\n",
            " clasification report:\n",
            "               precision    recall  f1-score   support\n",
            "\n",
            "           0       1.00      0.77      0.87    386751\n",
            "           1       0.02      0.82      0.04      2252\n",
            "\n",
            "    accuracy                           0.77    389003\n",
            "   macro avg       0.51      0.80      0.46    389003\n",
            "weighted avg       0.99      0.77      0.87    389003\n",
            "\n",
            "\n",
            " confussion matrix:\n",
            " [[299526  87225]\n",
            " [   395   1857]]\n"
          ]
        }
      ],
      "source": [
        "print ('Accuracy: ', accuracy_score(y_test, y_pred_smt))\n",
        "print ('F1 score: ', f1_score(y_test, y_pred_smt))\n",
        "print ('Recall: ', recall_score(y_test, y_pred_smt))\n",
        "print ('Precision: ', precision_score(y_test, y_pred_smt))\n",
        "print ('\\n clasification report:\\n', classification_report(y_test,y_pred_smt))\n",
        "print ('\\n confussion matrix:\\n',confusion_matrix(y_test, y_pred_smt))"
      ]
    },
    {
      "cell_type": "markdown",
      "metadata": {
        "id": "Gvu6zQceh-DD"
      },
      "source": [
        "ADASYN\n",
        "\n",
        "In ADASYN, the minority examples are generated based on their density distribution.\n",
        "More synthetic data are generated from minority class samples that are harder to learn as compared with those minority samples that are easier to learn."
      ]
    },
    {
      "cell_type": "code",
      "execution_count": null,
      "metadata": {
        "colab": {
          "base_uri": "https://localhost:8080/"
        },
        "id": "aI_YnTmXh61k",
        "outputId": "2dec7dd5-f817-4268-83f5-71e6fac20760"
      },
      "outputs": [
        {
          "output_type": "execute_result",
          "data": {
            "text/plain": [
              "1805572"
            ]
          },
          "metadata": {},
          "execution_count": 137
        }
      ],
      "source": [
        "# ADASYN\n",
        "from imblearn.over_sampling import ADASYN\n",
        "ada = ADASYN(random_state=45, n_neighbors=5)\n",
        "X_resampled_ada, y_resampled_ada = ada.fit_resample(X_train, y_train)\n",
        "len(X_resampled_ada)"
      ]
    },
    {
      "cell_type": "code",
      "execution_count": null,
      "metadata": {
        "colab": {
          "base_uri": "https://localhost:8080/"
        },
        "id": "V6u8bnHqiGHp",
        "outputId": "00e49b92-d452-4cc5-d5c4-e10f2a9c921d"
      },
      "outputs": [
        {
          "output_type": "stream",
          "name": "stdout",
          "text": [
            "[(0, 902418), (1, 903154)]\n"
          ]
        }
      ],
      "source": [
        "print(sorted(Counter(y_resampled_ada).items()))\n"
      ]
    },
    {
      "cell_type": "code",
      "execution_count": null,
      "metadata": {
        "id": "H5hB7sQiiH5a"
      },
      "outputs": [],
      "source": [
        "lreg_ada = LogisticRegression()\n",
        "lreg_ada.fit(X_resampled_ada, y_resampled_ada)\n",
        "\n",
        "y_pred_ada = lreg_ada.predict(X_test)"
      ]
    },
    {
      "cell_type": "code",
      "execution_count": null,
      "metadata": {
        "colab": {
          "base_uri": "https://localhost:8080/"
        },
        "id": "bobOYPDaiP2d",
        "outputId": "63006fcc-ef50-48e4-b56f-eaea59d34613"
      },
      "outputs": [
        {
          "output_type": "stream",
          "name": "stdout",
          "text": [
            "Accuracy:  0.8359652753320669\n",
            "F1 score:  0.050050616328232\n",
            "Recall:  0.7464476021314387\n",
            "Precision:  0.02589340727048675\n",
            "\n",
            " clasification report:\n",
            "               precision    recall  f1-score   support\n",
            "\n",
            "           0       1.00      0.84      0.91    386751\n",
            "           1       0.03      0.75      0.05      2252\n",
            "\n",
            "    accuracy                           0.84    389003\n",
            "   macro avg       0.51      0.79      0.48    389003\n",
            "weighted avg       0.99      0.84      0.91    389003\n",
            "\n",
            "\n",
            " confussion matrix:\n",
            " [[323512  63239]\n",
            " [   571   1681]]\n"
          ]
        }
      ],
      "source": [
        "print ('Accuracy: ', accuracy_score(y_test, y_pred_ada))\n",
        "print ('F1 score: ', f1_score(y_test, y_pred_ada))\n",
        "print ('Recall: ', recall_score(y_test, y_pred_ada))\n",
        "print ('Precision: ', precision_score(y_test, y_pred_ada))\n",
        "print ('\\n clasification report:\\n', classification_report(y_test,y_pred_ada))\n",
        "print ('\\n confussion matrix:\\n',confusion_matrix(y_test, y_pred_ada))"
      ]
    },
    {
      "cell_type": "markdown",
      "metadata": {
        "id": "nKBtt00_idQE"
      },
      "source": [
        "# Decision Trees"
      ]
    },
    {
      "cell_type": "code",
      "execution_count": null,
      "metadata": {
        "id": "Stj6HjSMiRUl"
      },
      "outputs": [],
      "source": [
        "# Decision Trees - Base\n",
        "from sklearn.tree import DecisionTreeClassifier\n",
        "dtc = DecisionTreeClassifier(random_state=0)\n",
        "dtc.fit(X_train, y_train)\n",
        "\n",
        "y_pred_dtc = dtc.predict(X_test)"
      ]
    },
    {
      "cell_type": "code",
      "execution_count": null,
      "metadata": {
        "colab": {
          "base_uri": "https://localhost:8080/"
        },
        "id": "PU0r-YnxK3L-",
        "outputId": "b417c20f-7c44-4e25-c2a9-1f386ff1dacc"
      },
      "outputs": [
        {
          "output_type": "stream",
          "name": "stdout",
          "text": [
            "Accuracy:  0.9963239358051224\n",
            "F1 score:  0.6866783523225242\n",
            "Recall:  0.6958259325044405\n",
            "Precision:  0.6777681660899654\n",
            "\n",
            " clasification report:\n",
            "               precision    recall  f1-score   support\n",
            "\n",
            "           0       1.00      1.00      1.00    386751\n",
            "           1       0.68      0.70      0.69      2252\n",
            "\n",
            "    accuracy                           1.00    389003\n",
            "   macro avg       0.84      0.85      0.84    389003\n",
            "weighted avg       1.00      1.00      1.00    389003\n",
            "\n",
            "\n",
            " confussion matrix:\n",
            " [[386006    745]\n",
            " [   685   1567]]\n"
          ]
        }
      ],
      "source": [
        "print ('Accuracy: ', accuracy_score(y_test, y_pred_dtc))\n",
        "print ('F1 score: ', f1_score(y_test, y_pred_dtc))\n",
        "print ('Recall: ', recall_score(y_test, y_pred_dtc))\n",
        "print ('Precision: ', precision_score(y_test, y_pred_dtc))\n",
        "print ('\\n clasification report:\\n', classification_report(y_test,y_pred_dtc))\n",
        "print ('\\n confussion matrix:\\n',confusion_matrix(y_test, y_pred_dtc))"
      ]
    },
    {
      "cell_type": "code",
      "execution_count": null,
      "metadata": {
        "id": "yplBmJBjNHb-"
      },
      "outputs": [],
      "source": [
        "# Decision Trees - Random Over-Sampling\n",
        "from sklearn.tree import DecisionTreeClassifier\n",
        "dtc_os = DecisionTreeClassifier(random_state=0)\n",
        "dtc_os.fit(X_resampled_os, y_resampled_os)\n",
        "\n",
        "y_pred_dtc_os = dtc_os.predict(X_test)"
      ]
    },
    {
      "cell_type": "code",
      "execution_count": null,
      "metadata": {
        "colab": {
          "base_uri": "https://localhost:8080/"
        },
        "id": "q2SCBLaSNLpm",
        "outputId": "91e2292a-be1e-4429-ed55-8dbeff950226"
      },
      "outputs": [
        {
          "output_type": "stream",
          "name": "stdout",
          "text": [
            "Accuracy:  0.9964139094042976\n",
            "F1 score:  0.6879892641467233\n",
            "Recall:  0.6829484902309059\n",
            "Precision:  0.6931050022532672\n",
            "\n",
            " clasification report:\n",
            "               precision    recall  f1-score   support\n",
            "\n",
            "           0       1.00      1.00      1.00    386751\n",
            "           1       0.69      0.68      0.69      2252\n",
            "\n",
            "    accuracy                           1.00    389003\n",
            "   macro avg       0.85      0.84      0.84    389003\n",
            "weighted avg       1.00      1.00      1.00    389003\n",
            "\n",
            "\n",
            " confussion matrix:\n",
            " [[386070    681]\n",
            " [   714   1538]]\n"
          ]
        }
      ],
      "source": [
        "print ('Accuracy: ', accuracy_score(y_test, y_pred_dtc_os))\n",
        "print ('F1 score: ', f1_score(y_test, y_pred_dtc_os))\n",
        "print ('Recall: ', recall_score(y_test, y_pred_dtc_os))\n",
        "print ('Precision: ', precision_score(y_test, y_pred_dtc_os))\n",
        "print ('\\n clasification report:\\n', classification_report(y_test,y_pred_dtc_os))\n",
        "print ('\\n confussion matrix:\\n',confusion_matrix(y_test, y_pred_dtc_os))"
      ]
    },
    {
      "cell_type": "code",
      "execution_count": null,
      "metadata": {
        "id": "zzrvL3m5NSIt"
      },
      "outputs": [],
      "source": [
        "# Decision Trees - SMOTE\n",
        "from sklearn.tree import DecisionTreeClassifier\n",
        "dtc_smt = DecisionTreeClassifier(random_state=0)\n",
        "dtc_smt.fit(X_resampled_smt, y_resampled_smt)\n",
        "\n",
        "y_pred_dtc_smt = dtc_smt.predict(X_test)"
      ]
    },
    {
      "cell_type": "code",
      "execution_count": null,
      "metadata": {
        "colab": {
          "base_uri": "https://localhost:8080/"
        },
        "id": "UsSxWJ8HNXp0",
        "outputId": "21b818dc-c527-496d-a7e6-b3b6ba94b64d"
      },
      "outputs": [
        {
          "output_type": "stream",
          "name": "stdout",
          "text": [
            "Accuracy:  0.9543576784754874\n",
            "F1 score:  0.17407080057682464\n",
            "Recall:  0.8308170515097691\n",
            "Precision:  0.0972200571577033\n",
            "\n",
            " clasification report:\n",
            "               precision    recall  f1-score   support\n",
            "\n",
            "           0       1.00      0.96      0.98    386751\n",
            "           1       0.10      0.83      0.17      2252\n",
            "\n",
            "    accuracy                           0.95    389003\n",
            "   macro avg       0.55      0.89      0.58    389003\n",
            "weighted avg       0.99      0.95      0.97    389003\n",
            "\n",
            "\n",
            " confussion matrix:\n",
            " [[369377  17374]\n",
            " [   381   1871]]\n"
          ]
        }
      ],
      "source": [
        "print ('Accuracy: ', accuracy_score(y_test, y_pred_dtc_smt))\n",
        "print ('F1 score: ', f1_score(y_test, y_pred_dtc_smt))\n",
        "print ('Recall: ', recall_score(y_test, y_pred_dtc_smt))\n",
        "print ('Precision: ', precision_score(y_test, y_pred_dtc_smt))\n",
        "print ('\\n clasification report:\\n', classification_report(y_test,y_pred_dtc_smt))\n",
        "print ('\\n confussion matrix:\\n',confusion_matrix(y_test, y_pred_dtc_smt))"
      ]
    },
    {
      "cell_type": "code",
      "execution_count": null,
      "metadata": {
        "id": "SoZYxdxUNZs8"
      },
      "outputs": [],
      "source": [
        "# Decision Trees - ADASYN\n",
        "from sklearn.tree import DecisionTreeClassifier\n",
        "dtc_ada = DecisionTreeClassifier(random_state=0)\n",
        "dtc_ada.fit(X_resampled_ada, y_resampled_ada)\n",
        "\n",
        "y_pred_dtc_ada = dtc_ada.predict(X_test)"
      ]
    },
    {
      "cell_type": "code",
      "execution_count": null,
      "metadata": {
        "colab": {
          "base_uri": "https://localhost:8080/"
        },
        "id": "X14vrN6JNdd1",
        "outputId": "5003f5de-85b3-484f-d0ac-51e18279ce99"
      },
      "outputs": [
        {
          "output_type": "stream",
          "name": "stdout",
          "text": [
            "Accuracy:  0.9360082055922447\n",
            "F1 score:  0.13285958128679418\n",
            "Recall:  0.8468028419182948\n",
            "Precision:  0.07208467208467209\n",
            "\n",
            " clasification report:\n",
            "               precision    recall  f1-score   support\n",
            "\n",
            "           0       1.00      0.94      0.97    386751\n",
            "           1       0.07      0.85      0.13      2252\n",
            "\n",
            "    accuracy                           0.94    389003\n",
            "   macro avg       0.54      0.89      0.55    389003\n",
            "weighted avg       0.99      0.94      0.96    389003\n",
            "\n",
            "\n",
            " confussion matrix:\n",
            " [[362203  24548]\n",
            " [   345   1907]]\n"
          ]
        }
      ],
      "source": [
        "print ('Accuracy: ', accuracy_score(y_test, y_pred_dtc_ada))\n",
        "print ('F1 score: ', f1_score(y_test, y_pred_dtc_ada))\n",
        "print ('Recall: ', recall_score(y_test, y_pred_dtc_ada))\n",
        "print ('Precision: ', precision_score(y_test, y_pred_dtc_ada))\n",
        "print ('\\n clasification report:\\n', classification_report(y_test,y_pred_dtc_ada))\n",
        "print ('\\n confussion matrix:\\n',confusion_matrix(y_test, y_pred_dtc_ada))"
      ]
    },
    {
      "cell_type": "markdown",
      "metadata": {
        "id": "n5UgCGQYNjvZ"
      },
      "source": [
        "# Random Forest"
      ]
    },
    {
      "cell_type": "code",
      "execution_count": null,
      "metadata": {
        "id": "nLFAYSDSNfpm"
      },
      "outputs": [],
      "source": [
        "# Random Forest - Base\n",
        "from sklearn.ensemble import RandomForestClassifier\n",
        "rf = RandomForestClassifier()\n",
        "rf.fit(X_train, y_train)\n",
        "\n",
        "y_pred_rf = rf.predict(X_test)"
      ]
    },
    {
      "cell_type": "code",
      "execution_count": null,
      "metadata": {
        "colab": {
          "base_uri": "https://localhost:8080/"
        },
        "id": "oUTGMPKONpFa",
        "outputId": "c5d0c7ce-61bd-4c83-e4bc-7a5d37022583"
      },
      "outputs": [
        {
          "output_type": "stream",
          "name": "stdout",
          "text": [
            "Accuracy:  0.9969126202111552\n",
            "F1 score:  0.7208924006507088\n",
            "Recall:  0.6887211367673179\n",
            "Precision:  0.7562164797659678\n",
            "\n",
            " clasification report:\n",
            "               precision    recall  f1-score   support\n",
            "\n",
            "           0       1.00      1.00      1.00    386751\n",
            "           1       0.76      0.69      0.72      2252\n",
            "\n",
            "    accuracy                           1.00    389003\n",
            "   macro avg       0.88      0.84      0.86    389003\n",
            "weighted avg       1.00      1.00      1.00    389003\n",
            "\n",
            "\n",
            " confussion matrix:\n",
            " [[386251    500]\n",
            " [   701   1551]]\n"
          ]
        }
      ],
      "source": [
        "print ('Accuracy: ', accuracy_score(y_test, y_pred_rf))\n",
        "print ('F1 score: ', f1_score(y_test, y_pred_rf))\n",
        "print ('Recall: ', recall_score(y_test, y_pred_rf))\n",
        "print ('Precision: ', precision_score(y_test, y_pred_rf))\n",
        "print ('\\n clasification report:\\n', classification_report(y_test,y_pred_rf))\n",
        "print ('\\n confussion matrix:\\n',confusion_matrix(y_test, y_pred_rf))"
      ]
    },
    {
      "cell_type": "code",
      "execution_count": null,
      "metadata": {
        "id": "UlGzdbvYNrNx"
      },
      "outputs": [],
      "source": [
        "# Random Forest - Random Over-Sampling\n",
        "rf_os = RandomForestClassifier()\n",
        "rf_os.fit(X_resampled_os, y_resampled_os)\n",
        "\n",
        "y_pred_rf_os = rf_os.predict(X_test)"
      ]
    },
    {
      "cell_type": "code",
      "execution_count": null,
      "metadata": {
        "colab": {
          "base_uri": "https://localhost:8080/"
        },
        "id": "jhYQfWJzNwRr",
        "outputId": "28d8fd03-a871-4ec6-ad49-512a18908275"
      },
      "outputs": [
        {
          "output_type": "stream",
          "name": "stdout",
          "text": [
            "Accuracy:  0.9963624959190546\n",
            "F1 score:  0.6904397287245679\n",
            "Recall:  0.7007104795737122\n",
            "Precision:  0.6804657179818887\n",
            "\n",
            " clasification report:\n",
            "               precision    recall  f1-score   support\n",
            "\n",
            "           0       1.00      1.00      1.00    386751\n",
            "           1       0.68      0.70      0.69      2252\n",
            "\n",
            "    accuracy                           1.00    389003\n",
            "   macro avg       0.84      0.85      0.84    389003\n",
            "weighted avg       1.00      1.00      1.00    389003\n",
            "\n",
            "\n",
            " confussion matrix:\n",
            " [[386010    741]\n",
            " [   674   1578]]\n"
          ]
        }
      ],
      "source": [
        "print ('Accuracy: ', accuracy_score(y_test, y_pred_rf_os))\n",
        "print ('F1 score: ', f1_score(y_test, y_pred_rf_os))\n",
        "print ('Recall: ', recall_score(y_test, y_pred_rf_os))\n",
        "print ('Precision: ', precision_score(y_test, y_pred_rf_os))\n",
        "print ('\\n clasification report:\\n', classification_report(y_test,y_pred_rf_os))\n",
        "print ('\\n confussion matrix:\\n',confusion_matrix(y_test, y_pred_rf_os))"
      ]
    },
    {
      "cell_type": "code",
      "execution_count": null,
      "metadata": {
        "id": "wEOjCTOwNw8l"
      },
      "outputs": [],
      "source": [
        "# Random Forest - SMOTE\n",
        "rf_smt = RandomForestClassifier()\n",
        "rf_smt.fit(X_resampled_smt, y_resampled_smt)\n",
        "\n",
        "y_pred_rf_smt = rf_smt.predict(X_test)"
      ]
    },
    {
      "cell_type": "code",
      "execution_count": null,
      "metadata": {
        "colab": {
          "base_uri": "https://localhost:8080/"
        },
        "id": "3zFb2YGwN0Ob",
        "outputId": "0ab699bd-3096-4ad8-be6a-119dd062a940"
      },
      "outputs": [
        {
          "output_type": "stream",
          "name": "stdout",
          "text": [
            "Accuracy:  0.9546378819700619\n",
            "F1 score:  0.173876404494382\n",
            "Recall:  0.8246003552397868\n",
            "Precision:  0.09718442537157211\n",
            "\n",
            " clasification report:\n",
            "               precision    recall  f1-score   support\n",
            "\n",
            "           0       1.00      0.96      0.98    386751\n",
            "           1       0.10      0.82      0.17      2252\n",
            "\n",
            "    accuracy                           0.95    389003\n",
            "   macro avg       0.55      0.89      0.58    389003\n",
            "weighted avg       0.99      0.95      0.97    389003\n",
            "\n",
            "\n",
            " confussion matrix:\n",
            " [[369500  17251]\n",
            " [   395   1857]]\n"
          ]
        }
      ],
      "source": [
        "print ('Accuracy: ', accuracy_score(y_test, y_pred_rf_smt))\n",
        "print ('F1 score: ', f1_score(y_test, y_pred_rf_smt))\n",
        "print ('Recall: ', recall_score(y_test, y_pred_rf_smt))\n",
        "print ('Precision: ', precision_score(y_test, y_pred_rf_smt))\n",
        "print ('\\n clasification report:\\n', classification_report(y_test,y_pred_rf_smt))\n",
        "print ('\\n confussion matrix:\\n',confusion_matrix(y_test, y_pred_rf_smt))"
      ]
    },
    {
      "cell_type": "code",
      "execution_count": null,
      "metadata": {
        "id": "qeJriw0PN655"
      },
      "outputs": [],
      "source": [
        "# Random Forest - ADASYN\n",
        "rf_ada = RandomForestClassifier()\n",
        "rf_ada.fit(X_resampled_ada, y_resampled_ada)\n",
        "\n",
        "y_pred_rf_ada = rf_ada.predict(X_test)"
      ]
    },
    {
      "cell_type": "code",
      "execution_count": null,
      "metadata": {
        "colab": {
          "base_uri": "https://localhost:8080/"
        },
        "id": "wU1l4cYuN_OS",
        "outputId": "a4ceda67-10e0-49af-bbb3-a2a2d7aaef75"
      },
      "outputs": [
        {
          "output_type": "stream",
          "name": "stdout",
          "text": [
            "Accuracy:  0.9357948396284862\n",
            "F1 score:  0.13060428849902533\n",
            "Recall:  0.8330373001776199\n",
            "Precision:  0.07085662486780481\n",
            "\n",
            " clasification report:\n",
            "               precision    recall  f1-score   support\n",
            "\n",
            "           0       1.00      0.94      0.97    386751\n",
            "           1       0.07      0.83      0.13      2252\n",
            "\n",
            "    accuracy                           0.94    389003\n",
            "   macro avg       0.53      0.88      0.55    389003\n",
            "weighted avg       0.99      0.94      0.96    389003\n",
            "\n",
            "\n",
            " confussion matrix:\n",
            " [[362151  24600]\n",
            " [   376   1876]]\n"
          ]
        }
      ],
      "source": [
        "print ('Accuracy: ', accuracy_score(y_test, y_pred_rf_ada))\n",
        "print ('F1 score: ', f1_score(y_test, y_pred_rf_ada))\n",
        "print ('Recall: ', recall_score(y_test, y_pred_rf_ada))\n",
        "print ('Precision: ', precision_score(y_test, y_pred_rf_ada))\n",
        "print ('\\n clasification report:\\n', classification_report(y_test,y_pred_rf_ada))\n",
        "print ('\\n confussion matrix:\\n',confusion_matrix(y_test, y_pred_rf_ada))\n"
      ]
    },
    {
      "cell_type": "markdown",
      "metadata": {
        "id": "HHfoo53mOCK4"
      },
      "source": [
        "# XGBoost"
      ]
    },
    {
      "cell_type": "code",
      "execution_count": null,
      "metadata": {
        "id": "PhGNzq0EODuE"
      },
      "outputs": [],
      "source": [
        "from xgboost import XGBClassifier\n"
      ]
    },
    {
      "cell_type": "code",
      "execution_count": null,
      "metadata": {
        "id": "6Bn4z5V-OOv2"
      },
      "outputs": [],
      "source": [
        "# XGBoost - Random Over-Sampling\n",
        "xgb_os = XGBClassifier()\n",
        "xgb_os.fit(X_resampled_os, y_resampled_os)\n",
        "\n",
        "y_pred_xgb_os = xgb_os.predict(X_test)\n"
      ]
    },
    {
      "cell_type": "code",
      "execution_count": null,
      "metadata": {
        "colab": {
          "base_uri": "https://localhost:8080/"
        },
        "id": "BVoyf-2AOQ1F",
        "outputId": "33d21abb-f7ff-4c1a-e23e-e0b20e3943d8"
      },
      "outputs": [
        {
          "output_type": "stream",
          "name": "stdout",
          "text": [
            "Accuracy:  0.9804345981907595\n",
            "F1 score:  0.34483945941292937\n",
            "Recall:  0.8894316163410302\n",
            "Precision:  0.21388147357180992\n",
            "\n",
            " clasification report:\n",
            "               precision    recall  f1-score   support\n",
            "\n",
            "           0       1.00      0.98      0.99    386751\n",
            "           1       0.21      0.89      0.34      2252\n",
            "\n",
            "    accuracy                           0.98    389003\n",
            "   macro avg       0.61      0.94      0.67    389003\n",
            "weighted avg       0.99      0.98      0.99    389003\n",
            "\n",
            "\n",
            " confussion matrix:\n",
            " [[379389   7362]\n",
            " [   249   2003]]\n"
          ]
        }
      ],
      "source": [
        "print ('Accuracy: ', accuracy_score(y_test, y_pred_xgb_os))\n",
        "print ('F1 score: ', f1_score(y_test, y_pred_xgb_os))\n",
        "print ('Recall: ', recall_score(y_test, y_pred_xgb_os))\n",
        "print ('Precision: ', precision_score(y_test, y_pred_xgb_os))\n",
        "print ('\\n clasification report:\\n', classification_report(y_test,y_pred_xgb_os))\n",
        "print ('\\n confussion matrix:\\n',confusion_matrix(y_test, y_pred_xgb_os))"
      ]
    },
    {
      "cell_type": "code",
      "execution_count": null,
      "metadata": {
        "id": "x7-pAtexOTUI"
      },
      "outputs": [],
      "source": [
        "# XGB - SMOTE\n",
        "xgb_smt = XGBClassifier()\n",
        "xgb_smt.fit(X_resampled_smt, y_resampled_smt)\n",
        "\n",
        "y_pred_xgb_smt = xgb_smt.predict(X_test)"
      ]
    },
    {
      "cell_type": "code",
      "execution_count": null,
      "metadata": {
        "colab": {
          "base_uri": "https://localhost:8080/"
        },
        "id": "oglfCiv-OWXB",
        "outputId": "4873e642-de81-467a-c222-9a829eaec8ea"
      },
      "outputs": [
        {
          "output_type": "stream",
          "name": "stdout",
          "text": [
            "Accuracy:  0.9667714644874204\n",
            "F1 score:  0.2408973455485083\n",
            "Recall:  0.9107460035523979\n",
            "Precision:  0.13880617217108826\n",
            "\n",
            " clasification report:\n",
            "               precision    recall  f1-score   support\n",
            "\n",
            "           0       1.00      0.97      0.98    386751\n",
            "           1       0.14      0.91      0.24      2252\n",
            "\n",
            "    accuracy                           0.97    389003\n",
            "   macro avg       0.57      0.94      0.61    389003\n",
            "weighted avg       0.99      0.97      0.98    389003\n",
            "\n",
            "\n",
            " confussion matrix:\n",
            " [[374026  12725]\n",
            " [   201   2051]]\n"
          ]
        }
      ],
      "source": [
        "print ('Accuracy: ', accuracy_score(y_test, y_pred_xgb_smt))\n",
        "print ('F1 score: ', f1_score(y_test, y_pred_xgb_smt))\n",
        "print ('Recall: ', recall_score(y_test, y_pred_xgb_smt))\n",
        "print ('Precision: ', precision_score(y_test, y_pred_xgb_smt))\n",
        "print ('\\n clasification report:\\n', classification_report(y_test,y_pred_xgb_smt))\n",
        "print ('\\n confussion matrix:\\n',confusion_matrix(y_test, y_pred_xgb_smt))"
      ]
    },
    {
      "cell_type": "code",
      "execution_count": null,
      "metadata": {
        "id": "ouqnPFVROZbr"
      },
      "outputs": [],
      "source": [
        "# XGB - ADASYN\n",
        "xgb_ada = XGBClassifier()\n",
        "xgb_ada.fit(X_resampled_ada, y_resampled_ada)\n",
        "\n",
        "y_pred_xgb_ada = xgb_ada.predict(X_test)"
      ]
    },
    {
      "cell_type": "code",
      "execution_count": null,
      "metadata": {
        "colab": {
          "base_uri": "https://localhost:8080/"
        },
        "id": "7A4PeEvjOdkt",
        "outputId": "14bdd0d0-47d0-4a3c-c580-e5ea94e98d8d"
      },
      "outputs": [
        {
          "output_type": "stream",
          "name": "stdout",
          "text": [
            "Accuracy:  0.9274632843448508\n",
            "F1 score:  0.13025922386955582\n",
            "Recall:  0.9382770870337478\n",
            "Precision:  0.06998774469212679\n",
            "\n",
            " clasification report:\n",
            "               precision    recall  f1-score   support\n",
            "\n",
            "           0       1.00      0.93      0.96    386751\n",
            "           1       0.07      0.94      0.13      2252\n",
            "\n",
            "    accuracy                           0.93    389003\n",
            "   macro avg       0.53      0.93      0.55    389003\n",
            "weighted avg       0.99      0.93      0.96    389003\n",
            "\n",
            "\n",
            " confussion matrix:\n",
            " [[358673  28078]\n",
            " [   139   2113]]\n"
          ]
        }
      ],
      "source": [
        "print ('Accuracy: ', accuracy_score(y_test, y_pred_xgb_ada))\n",
        "print ('F1 score: ', f1_score(y_test, y_pred_xgb_ada))\n",
        "print ('Recall: ', recall_score(y_test, y_pred_xgb_ada))\n",
        "print ('Precision: ', precision_score(y_test, y_pred_xgb_ada))\n",
        "print ('\\n clasification report:\\n', classification_report(y_test,y_pred_xgb_ada))\n",
        "print ('\\n confussion matrix:\\n',confusion_matrix(y_test, y_pred_xgb_ada))\n"
      ]
    },
    {
      "cell_type": "markdown",
      "metadata": {
        "id": "cJISroIAPaiP"
      },
      "source": [
        "![Screen Shot 2023-03-22 at 12.54.49 PM.png](data:image/png;base64,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)"
      ]
    },
    {
      "cell_type": "markdown",
      "metadata": {
        "id": "VUyowoRDOtUZ"
      },
      "source": [
        "We need to fine tune the model that gives us the Best combintion of ACCURACY and RECALL. If we compare all the executed models as in above image, we see that we get a decent ACCURACY RECALL combination for the following models :\n",
        "\n",
        "Logistic Regression SMOTE model\n",
        "Decision Tree SMOTE model\n",
        "XGBoost ADASYN model\n",
        "Random Forest ADASYN model\n",
        "Hence we perform fine tuning of these models to extract 10 most important features that are better predictors of fraud."
      ]
    },
    {
      "cell_type": "markdown",
      "metadata": {
        "id": "qcWGHqELP16G"
      },
      "source": [
        "# Hyperparameter Tuning"
      ]
    },
    {
      "cell_type": "markdown",
      "metadata": {
        "id": "2pN_Tp90P_1A"
      },
      "source": [
        "### Logistic Regression SMOTE - Recursive Feature Elimination - RFE\n"
      ]
    },
    {
      "cell_type": "code",
      "execution_count": null,
      "metadata": {
        "id": "LmNVy27_P6ui"
      },
      "outputs": [],
      "source": [
        "from sklearn.feature_selection import RFECV\n",
        "from sklearn.feature_selection import RFE"
      ]
    },
    {
      "cell_type": "code",
      "execution_count": null,
      "metadata": {
        "id": "fDY7XtAlQHrA"
      },
      "outputs": [],
      "source": [
        "rfe = RFE(estimator=lreg_smt, n_features_to_select=10) # Selecting 10 features that are important\n"
      ]
    },
    {
      "cell_type": "code",
      "execution_count": null,
      "metadata": {
        "colab": {
          "base_uri": "https://localhost:8080/",
          "height": 118
        },
        "id": "i_d8AwiPQKvb",
        "outputId": "fc5113fd-a1b1-491c-b5c9-1ef032ce9a38"
      },
      "outputs": [
        {
          "output_type": "execute_result",
          "data": {
            "text/plain": [
              "RFE(estimator=LogisticRegression(), n_features_to_select=10)"
            ],
            "text/html": [
              "<style>#sk-container-id-2 {color: black;background-color: white;}#sk-container-id-2 pre{padding: 0;}#sk-container-id-2 div.sk-toggleable {background-color: white;}#sk-container-id-2 label.sk-toggleable__label {cursor: pointer;display: block;width: 100%;margin-bottom: 0;padding: 0.3em;box-sizing: border-box;text-align: center;}#sk-container-id-2 label.sk-toggleable__label-arrow:before {content: \"▸\";float: left;margin-right: 0.25em;color: #696969;}#sk-container-id-2 label.sk-toggleable__label-arrow:hover:before {color: black;}#sk-container-id-2 div.sk-estimator:hover label.sk-toggleable__label-arrow:before {color: black;}#sk-container-id-2 div.sk-toggleable__content {max-height: 0;max-width: 0;overflow: hidden;text-align: left;background-color: #f0f8ff;}#sk-container-id-2 div.sk-toggleable__content pre {margin: 0.2em;color: black;border-radius: 0.25em;background-color: #f0f8ff;}#sk-container-id-2 input.sk-toggleable__control:checked~div.sk-toggleable__content {max-height: 200px;max-width: 100%;overflow: auto;}#sk-container-id-2 input.sk-toggleable__control:checked~label.sk-toggleable__label-arrow:before {content: \"▾\";}#sk-container-id-2 div.sk-estimator input.sk-toggleable__control:checked~label.sk-toggleable__label {background-color: #d4ebff;}#sk-container-id-2 div.sk-label input.sk-toggleable__control:checked~label.sk-toggleable__label {background-color: #d4ebff;}#sk-container-id-2 input.sk-hidden--visually {border: 0;clip: rect(1px 1px 1px 1px);clip: rect(1px, 1px, 1px, 1px);height: 1px;margin: -1px;overflow: hidden;padding: 0;position: absolute;width: 1px;}#sk-container-id-2 div.sk-estimator {font-family: monospace;background-color: #f0f8ff;border: 1px dotted black;border-radius: 0.25em;box-sizing: border-box;margin-bottom: 0.5em;}#sk-container-id-2 div.sk-estimator:hover {background-color: #d4ebff;}#sk-container-id-2 div.sk-parallel-item::after {content: \"\";width: 100%;border-bottom: 1px solid gray;flex-grow: 1;}#sk-container-id-2 div.sk-label:hover label.sk-toggleable__label {background-color: #d4ebff;}#sk-container-id-2 div.sk-serial::before {content: \"\";position: absolute;border-left: 1px solid gray;box-sizing: border-box;top: 0;bottom: 0;left: 50%;z-index: 0;}#sk-container-id-2 div.sk-serial {display: flex;flex-direction: column;align-items: center;background-color: white;padding-right: 0.2em;padding-left: 0.2em;position: relative;}#sk-container-id-2 div.sk-item {position: relative;z-index: 1;}#sk-container-id-2 div.sk-parallel {display: flex;align-items: stretch;justify-content: center;background-color: white;position: relative;}#sk-container-id-2 div.sk-item::before, #sk-container-id-2 div.sk-parallel-item::before {content: \"\";position: absolute;border-left: 1px solid gray;box-sizing: border-box;top: 0;bottom: 0;left: 50%;z-index: -1;}#sk-container-id-2 div.sk-parallel-item {display: flex;flex-direction: column;z-index: 1;position: relative;background-color: white;}#sk-container-id-2 div.sk-parallel-item:first-child::after {align-self: flex-end;width: 50%;}#sk-container-id-2 div.sk-parallel-item:last-child::after {align-self: flex-start;width: 50%;}#sk-container-id-2 div.sk-parallel-item:only-child::after {width: 0;}#sk-container-id-2 div.sk-dashed-wrapped {border: 1px dashed gray;margin: 0 0.4em 0.5em 0.4em;box-sizing: border-box;padding-bottom: 0.4em;background-color: white;}#sk-container-id-2 div.sk-label label {font-family: monospace;font-weight: bold;display: inline-block;line-height: 1.2em;}#sk-container-id-2 div.sk-label-container {text-align: center;}#sk-container-id-2 div.sk-container {/* jupyter's `normalize.less` sets `[hidden] { display: none; }` but bootstrap.min.css set `[hidden] { display: none !important; }` so we also need the `!important` here to be able to override the default hidden behavior on the sphinx rendered scikit-learn.org. See: https://github.com/scikit-learn/scikit-learn/issues/21755 */display: inline-block !important;position: relative;}#sk-container-id-2 div.sk-text-repr-fallback {display: none;}</style><div id=\"sk-container-id-2\" class=\"sk-top-container\"><div class=\"sk-text-repr-fallback\"><pre>RFE(estimator=LogisticRegression(), n_features_to_select=10)</pre><b>In a Jupyter environment, please rerun this cell to show the HTML representation or trust the notebook. <br />On GitHub, the HTML representation is unable to render, please try loading this page with nbviewer.org.</b></div><div class=\"sk-container\" hidden><div class=\"sk-item sk-dashed-wrapped\"><div class=\"sk-label-container\"><div class=\"sk-label sk-toggleable\"><input class=\"sk-toggleable__control sk-hidden--visually\" id=\"sk-estimator-id-2\" type=\"checkbox\" ><label for=\"sk-estimator-id-2\" class=\"sk-toggleable__label sk-toggleable__label-arrow\">RFE</label><div class=\"sk-toggleable__content\"><pre>RFE(estimator=LogisticRegression(), n_features_to_select=10)</pre></div></div></div><div class=\"sk-parallel\"><div class=\"sk-parallel-item\"><div class=\"sk-item\"><div class=\"sk-label-container\"><div class=\"sk-label sk-toggleable\"><input class=\"sk-toggleable__control sk-hidden--visually\" id=\"sk-estimator-id-3\" type=\"checkbox\" ><label for=\"sk-estimator-id-3\" class=\"sk-toggleable__label sk-toggleable__label-arrow\">estimator: LogisticRegression</label><div class=\"sk-toggleable__content\"><pre>LogisticRegression()</pre></div></div></div><div class=\"sk-serial\"><div class=\"sk-item\"><div class=\"sk-estimator sk-toggleable\"><input class=\"sk-toggleable__control sk-hidden--visually\" id=\"sk-estimator-id-4\" type=\"checkbox\" ><label for=\"sk-estimator-id-4\" class=\"sk-toggleable__label sk-toggleable__label-arrow\">LogisticRegression</label><div class=\"sk-toggleable__content\"><pre>LogisticRegression()</pre></div></div></div></div></div></div></div></div></div></div>"
            ]
          },
          "metadata": {},
          "execution_count": 166
        }
      ],
      "source": [
        "rfe.fit(X_resampled_smt, y_resampled_smt)\n"
      ]
    },
    {
      "cell_type": "code",
      "execution_count": null,
      "metadata": {
        "colab": {
          "base_uri": "https://localhost:8080/"
        },
        "id": "NSDIQP7dQMcA",
        "outputId": "8bfedb93-f487-4d5c-de9d-981e1be77e9f"
      },
      "outputs": [
        {
          "output_type": "execute_result",
          "data": {
            "text/plain": [
              "array([ 1,  1,  1,  1,  1,  3,  6,  2,  4,  1,  9,  1,  1,  8,  1,  7,  5,\n",
              "       10,  1])"
            ]
          },
          "metadata": {},
          "execution_count": 167
        }
      ],
      "source": [
        "rfe.ranking_\n"
      ]
    },
    {
      "cell_type": "code",
      "execution_count": null,
      "metadata": {
        "colab": {
          "base_uri": "https://localhost:8080/"
        },
        "id": "h8FZZM8MQMSi",
        "outputId": "2c3a0dab-177c-420f-9ed2-49eb3ecdf3b7"
      },
      "outputs": [
        {
          "output_type": "execute_result",
          "data": {
            "text/plain": [
              "Index(['amt', 'category_grocery_pos', 'transaction_hour_22', 'transaction_hour_23', 'category_gas_transport', 'category_misc_net', 'category_misc_pos', 'category_shopping_net', 'day_of_week_Sunday', 'day_of_week_Saturday'], dtype='object')"
            ]
          },
          "metadata": {},
          "execution_count": 168
        }
      ],
      "source": [
        "X_resampled_ada.columns[rfe.support_]\n"
      ]
    },
    {
      "cell_type": "code",
      "execution_count": null,
      "metadata": {
        "colab": {
          "base_uri": "https://localhost:8080/"
        },
        "id": "fBefSWepQLJw",
        "outputId": "a3b95685-b683-4377-ccdb-15d6f982df72"
      },
      "outputs": [
        {
          "output_type": "execute_result",
          "data": {
            "text/plain": [
              "(1805572, 10)"
            ]
          },
          "metadata": {},
          "execution_count": 169
        }
      ],
      "source": [
        "X_resampled_ada2 = X_resampled_ada.loc[:,rfe.support_]\n",
        "X_resampled_ada2.shape"
      ]
    },
    {
      "cell_type": "code",
      "execution_count": null,
      "metadata": {
        "colab": {
          "base_uri": "https://localhost:8080/"
        },
        "id": "5j8UXTz7QLtD",
        "outputId": "280ef733-b2ae-43d9-b6d2-f0a0be3e2338"
      },
      "outputs": [
        {
          "output_type": "execute_result",
          "data": {
            "text/plain": [
              "Index(['amt', 'category_grocery_pos', 'transaction_hour_22', 'transaction_hour_23', 'category_gas_transport', 'category_misc_net', 'category_misc_pos', 'category_shopping_net', 'day_of_week_Sunday', 'day_of_week_Saturday'], dtype='object')"
            ]
          },
          "metadata": {},
          "execution_count": 170
        }
      ],
      "source": [
        "# Top 10 important features\n",
        "X_resampled_ada2.columns\n"
      ]
    },
    {
      "cell_type": "code",
      "execution_count": null,
      "metadata": {
        "colab": {
          "base_uri": "https://localhost:8080/"
        },
        "id": "I4s8f3drQZtn",
        "outputId": "10b78c84-43e0-4234-faf0-4ba4ca0c161f"
      },
      "outputs": [
        {
          "output_type": "execute_result",
          "data": {
            "text/plain": [
              "array([0.81767027, 0.82252745, 0.7966404 , 0.80090221, 0.8138178 ])"
            ]
          },
          "metadata": {},
          "execution_count": 171
        }
      ],
      "source": [
        "from sklearn.model_selection import cross_val_score\n",
        "cross_val_score(lreg_ada, X_resampled_ada2, y_resampled_ada, n_jobs=-1)"
      ]
    },
    {
      "cell_type": "markdown",
      "metadata": {
        "id": "T1xmbQbsREl0"
      },
      "source": [
        "### Cross validation for feature selection - Logistic Regression SMOTE\n"
      ]
    },
    {
      "cell_type": "code",
      "execution_count": null,
      "metadata": {
        "colab": {
          "base_uri": "https://localhost:8080/"
        },
        "id": "UI_mCKEGRJDg",
        "outputId": "a718d983-5d0f-464c-a9a0-8a08ef996945"
      },
      "outputs": [
        {
          "output_type": "execute_result",
          "data": {
            "text/plain": [
              "19"
            ]
          },
          "metadata": {},
          "execution_count": 172
        }
      ],
      "source": [
        "num_features = X_resampled_smt.shape\n",
        "num_features[1]"
      ]
    },
    {
      "cell_type": "code",
      "execution_count": null,
      "metadata": {
        "id": "_C435iBvRMaD"
      },
      "outputs": [],
      "source": [
        "rfecv = RFECV(estimator=lreg_smt, cv=5, scoring=\"r2\")\n"
      ]
    },
    {
      "cell_type": "code",
      "execution_count": null,
      "metadata": {
        "colab": {
          "base_uri": "https://localhost:8080/",
          "height": 152
        },
        "id": "opRIN6ldRMUI",
        "outputId": "dfad8335-a227-4d43-d1b7-02cc539bb81d"
      },
      "outputs": [
        {
          "output_type": "stream",
          "name": "stdout",
          "text": [
            "CPU times: user 7min 40s, sys: 3min 15s, total: 10min 56s\n",
            "Wall time: 6min 50s\n"
          ]
        },
        {
          "output_type": "execute_result",
          "data": {
            "text/plain": [
              "RFECV(cv=5, estimator=LogisticRegression(), scoring='r2')"
            ],
            "text/html": [
              "<style>#sk-container-id-3 {color: black;background-color: white;}#sk-container-id-3 pre{padding: 0;}#sk-container-id-3 div.sk-toggleable {background-color: white;}#sk-container-id-3 label.sk-toggleable__label {cursor: pointer;display: block;width: 100%;margin-bottom: 0;padding: 0.3em;box-sizing: border-box;text-align: center;}#sk-container-id-3 label.sk-toggleable__label-arrow:before {content: \"▸\";float: left;margin-right: 0.25em;color: #696969;}#sk-container-id-3 label.sk-toggleable__label-arrow:hover:before {color: black;}#sk-container-id-3 div.sk-estimator:hover label.sk-toggleable__label-arrow:before {color: black;}#sk-container-id-3 div.sk-toggleable__content {max-height: 0;max-width: 0;overflow: hidden;text-align: left;background-color: #f0f8ff;}#sk-container-id-3 div.sk-toggleable__content pre {margin: 0.2em;color: black;border-radius: 0.25em;background-color: #f0f8ff;}#sk-container-id-3 input.sk-toggleable__control:checked~div.sk-toggleable__content {max-height: 200px;max-width: 100%;overflow: auto;}#sk-container-id-3 input.sk-toggleable__control:checked~label.sk-toggleable__label-arrow:before {content: \"▾\";}#sk-container-id-3 div.sk-estimator input.sk-toggleable__control:checked~label.sk-toggleable__label {background-color: #d4ebff;}#sk-container-id-3 div.sk-label input.sk-toggleable__control:checked~label.sk-toggleable__label {background-color: #d4ebff;}#sk-container-id-3 input.sk-hidden--visually {border: 0;clip: rect(1px 1px 1px 1px);clip: rect(1px, 1px, 1px, 1px);height: 1px;margin: -1px;overflow: hidden;padding: 0;position: absolute;width: 1px;}#sk-container-id-3 div.sk-estimator {font-family: monospace;background-color: #f0f8ff;border: 1px dotted black;border-radius: 0.25em;box-sizing: border-box;margin-bottom: 0.5em;}#sk-container-id-3 div.sk-estimator:hover {background-color: #d4ebff;}#sk-container-id-3 div.sk-parallel-item::after {content: \"\";width: 100%;border-bottom: 1px solid gray;flex-grow: 1;}#sk-container-id-3 div.sk-label:hover label.sk-toggleable__label {background-color: #d4ebff;}#sk-container-id-3 div.sk-serial::before {content: \"\";position: absolute;border-left: 1px solid gray;box-sizing: border-box;top: 0;bottom: 0;left: 50%;z-index: 0;}#sk-container-id-3 div.sk-serial {display: flex;flex-direction: column;align-items: center;background-color: white;padding-right: 0.2em;padding-left: 0.2em;position: relative;}#sk-container-id-3 div.sk-item {position: relative;z-index: 1;}#sk-container-id-3 div.sk-parallel {display: flex;align-items: stretch;justify-content: center;background-color: white;position: relative;}#sk-container-id-3 div.sk-item::before, #sk-container-id-3 div.sk-parallel-item::before {content: \"\";position: absolute;border-left: 1px solid gray;box-sizing: border-box;top: 0;bottom: 0;left: 50%;z-index: -1;}#sk-container-id-3 div.sk-parallel-item {display: flex;flex-direction: column;z-index: 1;position: relative;background-color: white;}#sk-container-id-3 div.sk-parallel-item:first-child::after {align-self: flex-end;width: 50%;}#sk-container-id-3 div.sk-parallel-item:last-child::after {align-self: flex-start;width: 50%;}#sk-container-id-3 div.sk-parallel-item:only-child::after {width: 0;}#sk-container-id-3 div.sk-dashed-wrapped {border: 1px dashed gray;margin: 0 0.4em 0.5em 0.4em;box-sizing: border-box;padding-bottom: 0.4em;background-color: white;}#sk-container-id-3 div.sk-label label {font-family: monospace;font-weight: bold;display: inline-block;line-height: 1.2em;}#sk-container-id-3 div.sk-label-container {text-align: center;}#sk-container-id-3 div.sk-container {/* jupyter's `normalize.less` sets `[hidden] { display: none; }` but bootstrap.min.css set `[hidden] { display: none !important; }` so we also need the `!important` here to be able to override the default hidden behavior on the sphinx rendered scikit-learn.org. See: https://github.com/scikit-learn/scikit-learn/issues/21755 */display: inline-block !important;position: relative;}#sk-container-id-3 div.sk-text-repr-fallback {display: none;}</style><div id=\"sk-container-id-3\" class=\"sk-top-container\"><div class=\"sk-text-repr-fallback\"><pre>RFECV(cv=5, estimator=LogisticRegression(), scoring=&#x27;r2&#x27;)</pre><b>In a Jupyter environment, please rerun this cell to show the HTML representation or trust the notebook. <br />On GitHub, the HTML representation is unable to render, please try loading this page with nbviewer.org.</b></div><div class=\"sk-container\" hidden><div class=\"sk-item sk-dashed-wrapped\"><div class=\"sk-label-container\"><div class=\"sk-label sk-toggleable\"><input class=\"sk-toggleable__control sk-hidden--visually\" id=\"sk-estimator-id-5\" type=\"checkbox\" ><label for=\"sk-estimator-id-5\" class=\"sk-toggleable__label sk-toggleable__label-arrow\">RFECV</label><div class=\"sk-toggleable__content\"><pre>RFECV(cv=5, estimator=LogisticRegression(), scoring=&#x27;r2&#x27;)</pre></div></div></div><div class=\"sk-parallel\"><div class=\"sk-parallel-item\"><div class=\"sk-item\"><div class=\"sk-label-container\"><div class=\"sk-label sk-toggleable\"><input class=\"sk-toggleable__control sk-hidden--visually\" id=\"sk-estimator-id-6\" type=\"checkbox\" ><label for=\"sk-estimator-id-6\" class=\"sk-toggleable__label sk-toggleable__label-arrow\">estimator: LogisticRegression</label><div class=\"sk-toggleable__content\"><pre>LogisticRegression()</pre></div></div></div><div class=\"sk-serial\"><div class=\"sk-item\"><div class=\"sk-estimator sk-toggleable\"><input class=\"sk-toggleable__control sk-hidden--visually\" id=\"sk-estimator-id-7\" type=\"checkbox\" ><label for=\"sk-estimator-id-7\" class=\"sk-toggleable__label sk-toggleable__label-arrow\">LogisticRegression</label><div class=\"sk-toggleable__content\"><pre>LogisticRegression()</pre></div></div></div></div></div></div></div></div></div></div>"
            ]
          },
          "metadata": {},
          "execution_count": 174
        }
      ],
      "source": [
        "%%time\n",
        "rfecv.fit(X_resampled_smt, y_resampled_smt)"
      ]
    },
    {
      "cell_type": "code",
      "execution_count": null,
      "metadata": {
        "colab": {
          "base_uri": "https://localhost:8080/"
        },
        "id": "i3bzhgU3RMOx",
        "outputId": "075c80b2-f984-4a1f-c768-64431caddd91"
      },
      "outputs": [
        {
          "output_type": "execute_result",
          "data": {
            "text/plain": [
              "<bound method RFE.score of RFECV(cv=5, estimator=LogisticRegression(), scoring='r2')>"
            ]
          },
          "metadata": {},
          "execution_count": 175
        }
      ],
      "source": [
        "rfecv.score"
      ]
    },
    {
      "cell_type": "code",
      "execution_count": null,
      "metadata": {
        "colab": {
          "base_uri": "https://localhost:8080/"
        },
        "id": "tvFJjyreRMGC",
        "outputId": "e007ba21-4c19-4511-abbc-a58c89edd8a1"
      },
      "outputs": [
        {
          "output_type": "execute_result",
          "data": {
            "text/plain": [
              "array([ True, False,  True,  True, False, False, False, False, False,\n",
              "       False, False, False, False, False, False, False, False, False,\n",
              "       False])"
            ]
          },
          "metadata": {},
          "execution_count": 176
        }
      ],
      "source": [
        "rfecv.support_\n"
      ]
    },
    {
      "cell_type": "code",
      "execution_count": null,
      "metadata": {
        "colab": {
          "base_uri": "https://localhost:8080/"
        },
        "id": "QjERpDCrRL4q",
        "outputId": "fb9b072a-0794-446c-9c47-e17c953a0081"
      },
      "outputs": [
        {
          "output_type": "execute_result",
          "data": {
            "text/plain": [
              "3"
            ]
          },
          "metadata": {},
          "execution_count": 177
        }
      ],
      "source": [
        "rfecv.n_features_\n"
      ]
    },
    {
      "cell_type": "markdown",
      "metadata": {
        "id": "Yv061AI-7Yi-"
      },
      "source": [
        "## Hyperparameter tuning using Cross Validation for Decision Tree SMOTE\n"
      ]
    },
    {
      "cell_type": "code",
      "execution_count": null,
      "metadata": {
        "id": "rR22blts7bii"
      },
      "outputs": [],
      "source": [
        "params = {\n",
        "    \"max_depth\": [2,3,5,10,20],\n",
        "    \"min_samples_leaf\": [5,10,20,50,100]\n",
        "}"
      ]
    },
    {
      "cell_type": "code",
      "execution_count": null,
      "metadata": {
        "id": "7cLm9FrH7dlC"
      },
      "outputs": [],
      "source": [
        "model_rcv_dt = RandomizedSearchCV(estimator=dtc_smt, \n",
        "                              param_distributions=params,\n",
        "                              verbose=1,\n",
        "                              cv=5,\n",
        "                              return_train_score=True,\n",
        "                              n_jobs=-1,\n",
        "                              n_iter=20)"
      ]
    },
    {
      "cell_type": "code",
      "execution_count": null,
      "metadata": {
        "colab": {
          "base_uri": "https://localhost:8080/",
          "height": 170
        },
        "id": "uORHe9G-7fqK",
        "outputId": "134663a0-a6ef-4be3-ed36-b5060a2a0882"
      },
      "outputs": [
        {
          "output_type": "stream",
          "name": "stdout",
          "text": [
            "Fitting 5 folds for each of 20 candidates, totalling 100 fits\n",
            "CPU times: user 14.9 s, sys: 630 ms, total: 15.5 s\n",
            "Wall time: 9min 8s\n"
          ]
        },
        {
          "output_type": "execute_result",
          "data": {
            "text/plain": [
              "RandomizedSearchCV(cv=5, estimator=DecisionTreeClassifier(random_state=0),\n",
              "                   n_iter=20, n_jobs=-1,\n",
              "                   param_distributions={'max_depth': [2, 3, 5, 10, 20],\n",
              "                                        'min_samples_leaf': [5, 10, 20, 50,\n",
              "                                                             100]},\n",
              "                   return_train_score=True, verbose=1)"
            ],
            "text/html": [
              "<style>#sk-container-id-4 {color: black;background-color: white;}#sk-container-id-4 pre{padding: 0;}#sk-container-id-4 div.sk-toggleable {background-color: white;}#sk-container-id-4 label.sk-toggleable__label {cursor: pointer;display: block;width: 100%;margin-bottom: 0;padding: 0.3em;box-sizing: border-box;text-align: center;}#sk-container-id-4 label.sk-toggleable__label-arrow:before {content: \"▸\";float: left;margin-right: 0.25em;color: #696969;}#sk-container-id-4 label.sk-toggleable__label-arrow:hover:before {color: black;}#sk-container-id-4 div.sk-estimator:hover label.sk-toggleable__label-arrow:before {color: black;}#sk-container-id-4 div.sk-toggleable__content {max-height: 0;max-width: 0;overflow: hidden;text-align: left;background-color: #f0f8ff;}#sk-container-id-4 div.sk-toggleable__content pre {margin: 0.2em;color: black;border-radius: 0.25em;background-color: #f0f8ff;}#sk-container-id-4 input.sk-toggleable__control:checked~div.sk-toggleable__content {max-height: 200px;max-width: 100%;overflow: auto;}#sk-container-id-4 input.sk-toggleable__control:checked~label.sk-toggleable__label-arrow:before {content: \"▾\";}#sk-container-id-4 div.sk-estimator input.sk-toggleable__control:checked~label.sk-toggleable__label {background-color: #d4ebff;}#sk-container-id-4 div.sk-label input.sk-toggleable__control:checked~label.sk-toggleable__label {background-color: #d4ebff;}#sk-container-id-4 input.sk-hidden--visually {border: 0;clip: rect(1px 1px 1px 1px);clip: rect(1px, 1px, 1px, 1px);height: 1px;margin: -1px;overflow: hidden;padding: 0;position: absolute;width: 1px;}#sk-container-id-4 div.sk-estimator {font-family: monospace;background-color: #f0f8ff;border: 1px dotted black;border-radius: 0.25em;box-sizing: border-box;margin-bottom: 0.5em;}#sk-container-id-4 div.sk-estimator:hover {background-color: #d4ebff;}#sk-container-id-4 div.sk-parallel-item::after {content: \"\";width: 100%;border-bottom: 1px solid gray;flex-grow: 1;}#sk-container-id-4 div.sk-label:hover label.sk-toggleable__label {background-color: #d4ebff;}#sk-container-id-4 div.sk-serial::before {content: \"\";position: absolute;border-left: 1px solid gray;box-sizing: border-box;top: 0;bottom: 0;left: 50%;z-index: 0;}#sk-container-id-4 div.sk-serial {display: flex;flex-direction: column;align-items: center;background-color: white;padding-right: 0.2em;padding-left: 0.2em;position: relative;}#sk-container-id-4 div.sk-item {position: relative;z-index: 1;}#sk-container-id-4 div.sk-parallel {display: flex;align-items: stretch;justify-content: center;background-color: white;position: relative;}#sk-container-id-4 div.sk-item::before, #sk-container-id-4 div.sk-parallel-item::before {content: \"\";position: absolute;border-left: 1px solid gray;box-sizing: border-box;top: 0;bottom: 0;left: 50%;z-index: -1;}#sk-container-id-4 div.sk-parallel-item {display: flex;flex-direction: column;z-index: 1;position: relative;background-color: white;}#sk-container-id-4 div.sk-parallel-item:first-child::after {align-self: flex-end;width: 50%;}#sk-container-id-4 div.sk-parallel-item:last-child::after {align-self: flex-start;width: 50%;}#sk-container-id-4 div.sk-parallel-item:only-child::after {width: 0;}#sk-container-id-4 div.sk-dashed-wrapped {border: 1px dashed gray;margin: 0 0.4em 0.5em 0.4em;box-sizing: border-box;padding-bottom: 0.4em;background-color: white;}#sk-container-id-4 div.sk-label label {font-family: monospace;font-weight: bold;display: inline-block;line-height: 1.2em;}#sk-container-id-4 div.sk-label-container {text-align: center;}#sk-container-id-4 div.sk-container {/* jupyter's `normalize.less` sets `[hidden] { display: none; }` but bootstrap.min.css set `[hidden] { display: none !important; }` so we also need the `!important` here to be able to override the default hidden behavior on the sphinx rendered scikit-learn.org. See: https://github.com/scikit-learn/scikit-learn/issues/21755 */display: inline-block !important;position: relative;}#sk-container-id-4 div.sk-text-repr-fallback {display: none;}</style><div id=\"sk-container-id-4\" class=\"sk-top-container\"><div class=\"sk-text-repr-fallback\"><pre>RandomizedSearchCV(cv=5, estimator=DecisionTreeClassifier(random_state=0),\n",
              "                   n_iter=20, n_jobs=-1,\n",
              "                   param_distributions={&#x27;max_depth&#x27;: [2, 3, 5, 10, 20],\n",
              "                                        &#x27;min_samples_leaf&#x27;: [5, 10, 20, 50,\n",
              "                                                             100]},\n",
              "                   return_train_score=True, verbose=1)</pre><b>In a Jupyter environment, please rerun this cell to show the HTML representation or trust the notebook. <br />On GitHub, the HTML representation is unable to render, please try loading this page with nbviewer.org.</b></div><div class=\"sk-container\" hidden><div class=\"sk-item sk-dashed-wrapped\"><div class=\"sk-label-container\"><div class=\"sk-label sk-toggleable\"><input class=\"sk-toggleable__control sk-hidden--visually\" id=\"sk-estimator-id-8\" type=\"checkbox\" ><label for=\"sk-estimator-id-8\" class=\"sk-toggleable__label sk-toggleable__label-arrow\">RandomizedSearchCV</label><div class=\"sk-toggleable__content\"><pre>RandomizedSearchCV(cv=5, estimator=DecisionTreeClassifier(random_state=0),\n",
              "                   n_iter=20, n_jobs=-1,\n",
              "                   param_distributions={&#x27;max_depth&#x27;: [2, 3, 5, 10, 20],\n",
              "                                        &#x27;min_samples_leaf&#x27;: [5, 10, 20, 50,\n",
              "                                                             100]},\n",
              "                   return_train_score=True, verbose=1)</pre></div></div></div><div class=\"sk-parallel\"><div class=\"sk-parallel-item\"><div class=\"sk-item\"><div class=\"sk-label-container\"><div class=\"sk-label sk-toggleable\"><input class=\"sk-toggleable__control sk-hidden--visually\" id=\"sk-estimator-id-9\" type=\"checkbox\" ><label for=\"sk-estimator-id-9\" class=\"sk-toggleable__label sk-toggleable__label-arrow\">estimator: DecisionTreeClassifier</label><div class=\"sk-toggleable__content\"><pre>DecisionTreeClassifier(random_state=0)</pre></div></div></div><div class=\"sk-serial\"><div class=\"sk-item\"><div class=\"sk-estimator sk-toggleable\"><input class=\"sk-toggleable__control sk-hidden--visually\" id=\"sk-estimator-id-10\" type=\"checkbox\" ><label for=\"sk-estimator-id-10\" class=\"sk-toggleable__label sk-toggleable__label-arrow\">DecisionTreeClassifier</label><div class=\"sk-toggleable__content\"><pre>DecisionTreeClassifier(random_state=0)</pre></div></div></div></div></div></div></div></div></div></div>"
            ]
          },
          "metadata": {},
          "execution_count": 180
        }
      ],
      "source": [
        "%%time\n",
        "model_rcv_dt.fit(X_resampled_smt, y_resampled_smt)"
      ]
    },
    {
      "cell_type": "code",
      "execution_count": null,
      "metadata": {
        "colab": {
          "base_uri": "https://localhost:8080/"
        },
        "id": "Rf2tWi7P7iKK",
        "outputId": "2a045048-ceb6-44f7-9e8f-be190bdf3351"
      },
      "outputs": [
        {
          "output_type": "execute_result",
          "data": {
            "text/plain": [
              "0.9583546648827813"
            ]
          },
          "metadata": {},
          "execution_count": 181
        }
      ],
      "source": [
        "model_rcv_dt.best_score_\n"
      ]
    },
    {
      "cell_type": "code",
      "execution_count": null,
      "metadata": {
        "colab": {
          "base_uri": "https://localhost:8080/",
          "height": 75
        },
        "id": "JwwTBNoI7m2d",
        "outputId": "43b8fb49-53eb-40f2-a393-08b73320b13d"
      },
      "outputs": [
        {
          "output_type": "execute_result",
          "data": {
            "text/plain": [
              "DecisionTreeClassifier(max_depth=20, min_samples_leaf=5, random_state=0)"
            ],
            "text/html": [
              "<style>#sk-container-id-5 {color: black;background-color: white;}#sk-container-id-5 pre{padding: 0;}#sk-container-id-5 div.sk-toggleable {background-color: white;}#sk-container-id-5 label.sk-toggleable__label {cursor: pointer;display: block;width: 100%;margin-bottom: 0;padding: 0.3em;box-sizing: border-box;text-align: center;}#sk-container-id-5 label.sk-toggleable__label-arrow:before {content: \"▸\";float: left;margin-right: 0.25em;color: #696969;}#sk-container-id-5 label.sk-toggleable__label-arrow:hover:before {color: black;}#sk-container-id-5 div.sk-estimator:hover label.sk-toggleable__label-arrow:before {color: black;}#sk-container-id-5 div.sk-toggleable__content {max-height: 0;max-width: 0;overflow: hidden;text-align: left;background-color: #f0f8ff;}#sk-container-id-5 div.sk-toggleable__content pre {margin: 0.2em;color: black;border-radius: 0.25em;background-color: #f0f8ff;}#sk-container-id-5 input.sk-toggleable__control:checked~div.sk-toggleable__content {max-height: 200px;max-width: 100%;overflow: auto;}#sk-container-id-5 input.sk-toggleable__control:checked~label.sk-toggleable__label-arrow:before {content: \"▾\";}#sk-container-id-5 div.sk-estimator input.sk-toggleable__control:checked~label.sk-toggleable__label {background-color: #d4ebff;}#sk-container-id-5 div.sk-label input.sk-toggleable__control:checked~label.sk-toggleable__label {background-color: #d4ebff;}#sk-container-id-5 input.sk-hidden--visually {border: 0;clip: rect(1px 1px 1px 1px);clip: rect(1px, 1px, 1px, 1px);height: 1px;margin: -1px;overflow: hidden;padding: 0;position: absolute;width: 1px;}#sk-container-id-5 div.sk-estimator {font-family: monospace;background-color: #f0f8ff;border: 1px dotted black;border-radius: 0.25em;box-sizing: border-box;margin-bottom: 0.5em;}#sk-container-id-5 div.sk-estimator:hover {background-color: #d4ebff;}#sk-container-id-5 div.sk-parallel-item::after {content: \"\";width: 100%;border-bottom: 1px solid gray;flex-grow: 1;}#sk-container-id-5 div.sk-label:hover label.sk-toggleable__label {background-color: #d4ebff;}#sk-container-id-5 div.sk-serial::before {content: \"\";position: absolute;border-left: 1px solid gray;box-sizing: border-box;top: 0;bottom: 0;left: 50%;z-index: 0;}#sk-container-id-5 div.sk-serial {display: flex;flex-direction: column;align-items: center;background-color: white;padding-right: 0.2em;padding-left: 0.2em;position: relative;}#sk-container-id-5 div.sk-item {position: relative;z-index: 1;}#sk-container-id-5 div.sk-parallel {display: flex;align-items: stretch;justify-content: center;background-color: white;position: relative;}#sk-container-id-5 div.sk-item::before, #sk-container-id-5 div.sk-parallel-item::before {content: \"\";position: absolute;border-left: 1px solid gray;box-sizing: border-box;top: 0;bottom: 0;left: 50%;z-index: -1;}#sk-container-id-5 div.sk-parallel-item {display: flex;flex-direction: column;z-index: 1;position: relative;background-color: white;}#sk-container-id-5 div.sk-parallel-item:first-child::after {align-self: flex-end;width: 50%;}#sk-container-id-5 div.sk-parallel-item:last-child::after {align-self: flex-start;width: 50%;}#sk-container-id-5 div.sk-parallel-item:only-child::after {width: 0;}#sk-container-id-5 div.sk-dashed-wrapped {border: 1px dashed gray;margin: 0 0.4em 0.5em 0.4em;box-sizing: border-box;padding-bottom: 0.4em;background-color: white;}#sk-container-id-5 div.sk-label label {font-family: monospace;font-weight: bold;display: inline-block;line-height: 1.2em;}#sk-container-id-5 div.sk-label-container {text-align: center;}#sk-container-id-5 div.sk-container {/* jupyter's `normalize.less` sets `[hidden] { display: none; }` but bootstrap.min.css set `[hidden] { display: none !important; }` so we also need the `!important` here to be able to override the default hidden behavior on the sphinx rendered scikit-learn.org. See: https://github.com/scikit-learn/scikit-learn/issues/21755 */display: inline-block !important;position: relative;}#sk-container-id-5 div.sk-text-repr-fallback {display: none;}</style><div id=\"sk-container-id-5\" class=\"sk-top-container\"><div class=\"sk-text-repr-fallback\"><pre>DecisionTreeClassifier(max_depth=20, min_samples_leaf=5, random_state=0)</pre><b>In a Jupyter environment, please rerun this cell to show the HTML representation or trust the notebook. <br />On GitHub, the HTML representation is unable to render, please try loading this page with nbviewer.org.</b></div><div class=\"sk-container\" hidden><div class=\"sk-item\"><div class=\"sk-estimator sk-toggleable\"><input class=\"sk-toggleable__control sk-hidden--visually\" id=\"sk-estimator-id-11\" type=\"checkbox\" checked><label for=\"sk-estimator-id-11\" class=\"sk-toggleable__label sk-toggleable__label-arrow\">DecisionTreeClassifier</label><div class=\"sk-toggleable__content\"><pre>DecisionTreeClassifier(max_depth=20, min_samples_leaf=5, random_state=0)</pre></div></div></div></div></div>"
            ]
          },
          "metadata": {},
          "execution_count": 182
        }
      ],
      "source": [
        "dt_best = model_rcv_dt.best_estimator_\n",
        "dt_best"
      ]
    },
    {
      "cell_type": "code",
      "execution_count": null,
      "metadata": {
        "id": "gHjApHdz7nxU"
      },
      "outputs": [],
      "source": [
        "# from sklearn.metrics import plot_roc_curve\n",
        "# plot_roc_curve(dt_best, X_resampled_smt, y_resampled_smt)\n",
        "# plt.show()"
      ]
    },
    {
      "cell_type": "markdown",
      "metadata": {
        "id": "vbLpjp0X7tMr"
      },
      "source": [
        "## Hyper-parameter tuning using Cross Validation for XGBOOST ADASYN model\n"
      ]
    },
    {
      "cell_type": "code",
      "execution_count": null,
      "metadata": {
        "id": "-8DY57P07unS"
      },
      "outputs": [],
      "source": [
        "from sklearn.model_selection import RandomizedSearchCV\n"
      ]
    },
    {
      "cell_type": "code",
      "execution_count": null,
      "metadata": {
        "id": "6KOa-Z3K7xDz"
      },
      "outputs": [],
      "source": [
        "hyper_params = {'max_depth': range(3, 10),\n",
        "                'max_features': range(3, 10),\n",
        "                'min_samples_leaf': range(20, 200, 50),\n",
        "                'n_estimators': range(10, 51, 10)}"
      ]
    },
    {
      "cell_type": "code",
      "execution_count": null,
      "metadata": {
        "id": "zoYtCzdt70ul"
      },
      "outputs": [],
      "source": [
        "# Performing Randomizedsearch for XGBoost ADASYN model\n",
        "model_rcv_xgb = RandomizedSearchCV(estimator=xgb_ada, \n",
        "                              param_distributions=hyper_params,\n",
        "                              verbose=1,\n",
        "                              cv=5,\n",
        "                              return_train_score=True,\n",
        "                              n_jobs=-1,\n",
        "                              n_iter=20)"
      ]
    },
    {
      "cell_type": "code",
      "execution_count": null,
      "metadata": {
        "colab": {
          "base_uri": "https://localhost:8080/"
        },
        "id": "Jk-O1dLE8CaA",
        "outputId": "a8505314-3ff1-4de3-ca01-8413feca19e1"
      },
      "outputs": [
        {
          "metadata": {
            "tags": null
          },
          "name": "stdout",
          "output_type": "stream",
          "text": [
            "Fitting 5 folds for each of 20 candidates, totalling 100 fits\n"
          ]
        }
      ],
      "source": [
        "model_rcv_xgb.fit(X_resampled_ada, y_resampled_ada)\n"
      ]
    },
    {
      "cell_type": "code",
      "execution_count": null,
      "metadata": {
        "id": "BVhiBhp88E_U"
      },
      "outputs": [],
      "source": [
        "model_rcv_xgb.best_score_\n"
      ]
    },
    {
      "cell_type": "code",
      "execution_count": null,
      "metadata": {
        "id": "cCjoJdLk8IOb"
      },
      "outputs": [],
      "source": [
        "model_rcv_xgb.best_estimator_     # Displaying best values for hyperparameters\n"
      ]
    },
    {
      "cell_type": "code",
      "execution_count": null,
      "metadata": {
        "id": "ux2A2-el8Kea"
      },
      "outputs": [],
      "source": [
        "xgb_best = model_rcv_xgb.best_estimator_ # Naming the best model rf_best\n"
      ]
    },
    {
      "cell_type": "code",
      "execution_count": null,
      "metadata": {
        "id": "TMlvybrG8MyE"
      },
      "outputs": [],
      "source": [
        "xgb_best # Displaying the hyperparametres\n"
      ]
    },
    {
      "cell_type": "code",
      "execution_count": null,
      "metadata": {
        "id": "EBB-zAaT8Oz-"
      },
      "outputs": [],
      "source": [
        "y_pred_rcv_xgb = model_rcv_xgb.predict(X_test) # Predicting the is_fraud variable for test data\n"
      ]
    },
    {
      "cell_type": "code",
      "execution_count": null,
      "metadata": {
        "id": "NBsteYR48V4n"
      },
      "outputs": [],
      "source": [
        "# Evaluation Metrics - We see that we get good accuracy and Recall values\n",
        "print ('Accuracy: ', accuracy_score(y_test, y_pred_rcv_xgb))\n",
        "print ('F1 score: ', f1_score(y_test, y_pred_rcv_xgb))\n",
        "print ('Recall: ', recall_score(y_test, y_pred_rcv_xgb))\n",
        "print ('Precision: ', precision_score(y_test, y_pred_rcv_xgb))\n",
        "print ('\\n clasification report:\\n', classification_report(y_test,y_pred_rcv_xgb))\n",
        "print ('\\n confussion matrix:\\n',confusion_matrix(y_test, y_pred_rcv_xgb))"
      ]
    },
    {
      "cell_type": "code",
      "execution_count": null,
      "metadata": {
        "id": "6y-SB-3r8Wr_"
      },
      "outputs": [],
      "source": [
        "from sklearn.metrics import plot_roc_curve\n",
        "plot_roc_curve(xgb_best, X_resampled_ada, y_resampled_ada, drop_intermediate=False)\n",
        "plt.show()"
      ]
    },
    {
      "cell_type": "code",
      "execution_count": null,
      "metadata": {
        "id": "hTu6g9dW8Z6b"
      },
      "outputs": [],
      "source": [
        "# Accuracy Score for Final Model : 92.5\n",
        "# Recall for Final Model is 93.5\n",
        "# list of important features\n",
        "\n",
        "importances = xgb_best.feature_importances_\n",
        "weights = pd.Series(importances,\n",
        "                 index=X_resampled_ada.columns.values)\n",
        "weights.sort_values()[-10:].plot(kind = 'barh')"
      ]
    },
    {
      "cell_type": "markdown",
      "metadata": {
        "id": "Nf9UyyYJ8fwY"
      },
      "source": [
        "### Hyper-parameter tuning using Cross Validation for Random Forest ADASYN model\n"
      ]
    },
    {
      "cell_type": "code",
      "execution_count": null,
      "metadata": {
        "id": "FrCk1ud88hwb"
      },
      "outputs": [],
      "source": [
        "from sklearn.model_selection import RandomizedSearchCV\n"
      ]
    },
    {
      "cell_type": "code",
      "execution_count": null,
      "metadata": {
        "id": "GKhDUpht8mcm"
      },
      "outputs": [],
      "source": [
        "hyper_params = {'max_depth': range(3, 10),\n",
        "                'max_features': range(3, 10),\n",
        "                'min_samples_leaf': range(20, 200, 50),\n",
        "                'n_estimators': range(10, 51, 10)}"
      ]
    },
    {
      "cell_type": "code",
      "execution_count": null,
      "metadata": {
        "id": "Jyssfkb-8qao"
      },
      "outputs": [],
      "source": [
        "# Performing Randomizedsearch for Random Forest ADASYN model\n",
        "model_rcv = RandomizedSearchCV(estimator=rf_ada, \n",
        "                              param_distributions=hyper_params,\n",
        "                              verbose=1,\n",
        "                              cv=5,\n",
        "                              return_train_score=True,\n",
        "                              n_jobs=-1,\n",
        "                              n_iter=20)"
      ]
    },
    {
      "cell_type": "code",
      "execution_count": null,
      "metadata": {
        "id": "TxKOB_iB8tFI"
      },
      "outputs": [],
      "source": [
        "model_rcv.fit(X_resampled_ada, y_resampled_ada)\n"
      ]
    },
    {
      "cell_type": "code",
      "execution_count": null,
      "metadata": {
        "id": "yldpl-A88xgK"
      },
      "outputs": [],
      "source": [
        "model_rcv.best_score_\n"
      ]
    },
    {
      "cell_type": "code",
      "execution_count": null,
      "metadata": {
        "id": "PIGyGIU-80BU"
      },
      "outputs": [],
      "source": [
        "model_rcv.best_estimator_ # Displaying best values for hyperparameters\n"
      ]
    },
    {
      "cell_type": "code",
      "execution_count": null,
      "metadata": {
        "id": "TT2TIyHG82F-"
      },
      "outputs": [],
      "source": [
        "rf_best = model_rcv.best_estimator_ # Naming the best model rf_best\n"
      ]
    },
    {
      "cell_type": "code",
      "execution_count": null,
      "metadata": {
        "id": "SgjDCQ2684Bh"
      },
      "outputs": [],
      "source": [
        "rf_best # Displaying the hyperparametres\n"
      ]
    },
    {
      "cell_type": "code",
      "execution_count": null,
      "metadata": {
        "id": "i9rEKbV786nq"
      },
      "outputs": [],
      "source": [
        "y_pred_rcv = rf_best.predict(X_test) # Predicting the is_fraud variable for test data\n"
      ]
    },
    {
      "cell_type": "code",
      "execution_count": null,
      "metadata": {
        "id": "5vi7yNBs89We"
      },
      "outputs": [],
      "source": [
        "# Evaluation Metrics - We see that we get good accuracy and Recall values\n",
        "print ('Accuracy: ', accuracy_score(y_test, y_pred_rcv))\n",
        "print ('F1 score: ', f1_score(y_test, y_pred_rcv))\n",
        "print ('Recall: ', recall_score(y_test, y_pred_rcv))\n",
        "print ('Precision: ', precision_score(y_test, y_pred_rcv))\n",
        "print ('\\n clasification report:\\n', classification_report(y_test,y_pred_rcv))\n",
        "print ('\\n confussion matrix:\\n',confusion_matrix(y_test, y_pred_rcv))"
      ]
    },
    {
      "cell_type": "code",
      "execution_count": null,
      "metadata": {
        "id": "zu2iTdJ89BW9"
      },
      "outputs": [],
      "source": [
        "from sklearn.metrics import plot_roc_curve\n",
        "plot_roc_curve(rf_best, X_resampled_ada, y_resampled_ada, drop_intermediate=False)\n",
        "plt.show()"
      ]
    },
    {
      "cell_type": "code",
      "execution_count": null,
      "metadata": {
        "id": "QXwsgw3L9CU1"
      },
      "outputs": [],
      "source": [
        "# Accuracy Score for Final Model : 92.5\n",
        "# Recall for Final Model is 93.7\n",
        "# list of important features\n",
        "\n",
        "importances = rf_best.feature_importances_\n",
        "weights = pd.Series(importances,\n",
        "                 index=X_resampled_ada.columns.values)\n",
        "weights.sort_values()[-10:].plot(kind = 'barh')"
      ]
    },
    {
      "cell_type": "markdown",
      "metadata": {
        "id": "mT3cohpb9Jd-"
      },
      "source": [
        "<b>After comparing all the 4 fine tuned models, we conclude that XGBoost ADASYN (xgb_best) and Random Forest ADASYN (rf_best) are the best performing models.</b>\n",
        "\n",
        "\n",
        "Based upon the important features given by rach of the above 2 best models, following are the recommendations to FINEX company :\n",
        "In case the transaction amount seems unusual, the transaction should be checked for authenticity \\n \n",
        "\n",
        "\n",
        "*   All the transactions performed during ODD Hours of the day like after 10pm or 11pm need checking\n",
        "\n",
        "*   Maximum faudulent transactions take place under the category gas_transport\n",
        "\n",
        "*   Categories shopping_net, shopping_pos, grocery_pos, misc_net, misc_pos also contribute to high likelihood of fraudulent transactions\n",
        "\n",
        "*   Considering all the above factors, mostly frauds are likely to be performed by male customers\n",
        "\n",
        "\n",
        "\n",
        "\n",
        "\n",
        "\n",
        "\n"
      ]
    },
    {
      "cell_type": "markdown",
      "metadata": {
        "id": "hkL1YEA--LFC"
      },
      "source": [
        "# Cost Saving Benefits "
      ]
    },
    {
      "cell_type": "markdown",
      "metadata": {
        "id": "Ex3aViDxBJJn"
      },
      "source": [
        "We will be doing the Cost Benefit Analysis using XGBoost ADASYN (xgb_best) model\n"
      ]
    },
    {
      "cell_type": "code",
      "execution_count": null,
      "metadata": {
        "id": "XbQFrgXo-P38"
      },
      "outputs": [],
      "source": [
        "data = pd.concat([data_train, data_test]) # Forming a consolidated dataset\n"
      ]
    },
    {
      "cell_type": "code",
      "execution_count": null,
      "metadata": {
        "id": "2Ybmhm9EBVyv"
      },
      "outputs": [],
      "source": [
        "# Transaction date and time column\n",
        "\n",
        "data['trans_date_trans_time'] = pd.to_datetime(data['trans_date_trans_time'])\n",
        "\n",
        "# Extract year from trans_date_trans_time column\n",
        "\n",
        "data['year'] = pd.DatetimeIndex(data['trans_date_trans_time']).year\n",
        "data['month'] = pd.DatetimeIndex(data['trans_date_trans_time']).month"
      ]
    },
    {
      "cell_type": "code",
      "execution_count": null,
      "metadata": {
        "id": "gJcG_GhQBVjW",
        "colab": {
          "base_uri": "https://localhost:8080/",
          "height": 595
        },
        "outputId": "26f50238-908a-4e05-e65c-7ced3dd6ebbf"
      },
      "outputs": [
        {
          "output_type": "execute_result",
          "data": {
            "text/plain": [
              "   Unnamed: 0 trans_date_trans_time            cc_num  \\\n",
              "0           0   2019-01-01 00:00:18  2703186189652095   \n",
              "1           1   2019-01-01 00:00:44      630423337322   \n",
              "2           2   2019-01-01 00:00:51    38859492057661   \n",
              "3           3   2019-01-01 00:01:16  3534093764340240   \n",
              "4           4   2019-01-01 00:03:06   375534208663984   \n",
              "\n",
              "                             merchant       category     amt      first  \\\n",
              "0          fraud_Rippin, Kub and Mann       misc_net    4.97   Jennifer   \n",
              "1     fraud_Heller, Gutmann and Zieme    grocery_pos  107.23  Stephanie   \n",
              "2                fraud_Lind-Buckridge  entertainment  220.11     Edward   \n",
              "3  fraud_Kutch, Hermiston and Farrell  gas_transport   45.00     Jeremy   \n",
              "4                 fraud_Keeling-Crist       misc_pos   41.96      Tyler   \n",
              "\n",
              "      last gender                        street  ... city_pop  \\\n",
              "0    Banks      F                561 Perry Cove  ...     3495   \n",
              "1     Gill      F  43039 Riley Greens Suite 393  ...      149   \n",
              "2  Sanchez      M      594 White Dale Suite 530  ...     4154   \n",
              "3    White      M   9443 Cynthia Court Apt. 038  ...     1939   \n",
              "4   Garcia      M              408 Bradley Rest  ...       99   \n",
              "\n",
              "                                 job         dob  \\\n",
              "0          Psychologist, counselling  1988-03-09   \n",
              "1  Special educational needs teacher  1978-06-21   \n",
              "2        Nature conservation officer  1962-01-19   \n",
              "3                    Patent attorney  1967-01-12   \n",
              "4     Dance movement psychotherapist  1986-03-28   \n",
              "\n",
              "                          trans_num   unix_time  merch_lat  merch_long  \\\n",
              "0  0b242abb623afc578575680df30655b9  1325376018  36.011293  -82.048315   \n",
              "1  1f76529f8574734946361c461b024d99  1325376044  49.159047 -118.186462   \n",
              "2  a1a22d70485983eac12b5b88dad1cf95  1325376051  43.150704 -112.154481   \n",
              "3  6b849c168bdad6f867558c3793159a81  1325376076  47.034331 -112.561071   \n",
              "4  a41d7549acf90789359a9aa5346dcb46  1325376186  38.674999  -78.632459   \n",
              "\n",
              "  is_fraud  year  month  \n",
              "0        0  2019      1  \n",
              "1        0  2019      1  \n",
              "2        0  2019      1  \n",
              "3        0  2019      1  \n",
              "4        0  2019      1  \n",
              "\n",
              "[5 rows x 25 columns]"
            ],
            "text/html": [
              "\n",
              "  <div id=\"df-6addd708-181b-438a-bf98-3e6726cc579b\">\n",
              "    <div class=\"colab-df-container\">\n",
              "      <div>\n",
              "<style scoped>\n",
              "    .dataframe tbody tr th:only-of-type {\n",
              "        vertical-align: middle;\n",
              "    }\n",
              "\n",
              "    .dataframe tbody tr th {\n",
              "        vertical-align: top;\n",
              "    }\n",
              "\n",
              "    .dataframe thead th {\n",
              "        text-align: right;\n",
              "    }\n",
              "</style>\n",
              "<table border=\"1\" class=\"dataframe\">\n",
              "  <thead>\n",
              "    <tr style=\"text-align: right;\">\n",
              "      <th></th>\n",
              "      <th>Unnamed: 0</th>\n",
              "      <th>trans_date_trans_time</th>\n",
              "      <th>cc_num</th>\n",
              "      <th>merchant</th>\n",
              "      <th>category</th>\n",
              "      <th>amt</th>\n",
              "      <th>first</th>\n",
              "      <th>last</th>\n",
              "      <th>gender</th>\n",
              "      <th>street</th>\n",
              "      <th>...</th>\n",
              "      <th>city_pop</th>\n",
              "      <th>job</th>\n",
              "      <th>dob</th>\n",
              "      <th>trans_num</th>\n",
              "      <th>unix_time</th>\n",
              "      <th>merch_lat</th>\n",
              "      <th>merch_long</th>\n",
              "      <th>is_fraud</th>\n",
              "      <th>year</th>\n",
              "      <th>month</th>\n",
              "    </tr>\n",
              "  </thead>\n",
              "  <tbody>\n",
              "    <tr>\n",
              "      <th>0</th>\n",
              "      <td>0</td>\n",
              "      <td>2019-01-01 00:00:18</td>\n",
              "      <td>2703186189652095</td>\n",
              "      <td>fraud_Rippin, Kub and Mann</td>\n",
              "      <td>misc_net</td>\n",
              "      <td>4.97</td>\n",
              "      <td>Jennifer</td>\n",
              "      <td>Banks</td>\n",
              "      <td>F</td>\n",
              "      <td>561 Perry Cove</td>\n",
              "      <td>...</td>\n",
              "      <td>3495</td>\n",
              "      <td>Psychologist, counselling</td>\n",
              "      <td>1988-03-09</td>\n",
              "      <td>0b242abb623afc578575680df30655b9</td>\n",
              "      <td>1325376018</td>\n",
              "      <td>36.011293</td>\n",
              "      <td>-82.048315</td>\n",
              "      <td>0</td>\n",
              "      <td>2019</td>\n",
              "      <td>1</td>\n",
              "    </tr>\n",
              "    <tr>\n",
              "      <th>1</th>\n",
              "      <td>1</td>\n",
              "      <td>2019-01-01 00:00:44</td>\n",
              "      <td>630423337322</td>\n",
              "      <td>fraud_Heller, Gutmann and Zieme</td>\n",
              "      <td>grocery_pos</td>\n",
              "      <td>107.23</td>\n",
              "      <td>Stephanie</td>\n",
              "      <td>Gill</td>\n",
              "      <td>F</td>\n",
              "      <td>43039 Riley Greens Suite 393</td>\n",
              "      <td>...</td>\n",
              "      <td>149</td>\n",
              "      <td>Special educational needs teacher</td>\n",
              "      <td>1978-06-21</td>\n",
              "      <td>1f76529f8574734946361c461b024d99</td>\n",
              "      <td>1325376044</td>\n",
              "      <td>49.159047</td>\n",
              "      <td>-118.186462</td>\n",
              "      <td>0</td>\n",
              "      <td>2019</td>\n",
              "      <td>1</td>\n",
              "    </tr>\n",
              "    <tr>\n",
              "      <th>2</th>\n",
              "      <td>2</td>\n",
              "      <td>2019-01-01 00:00:51</td>\n",
              "      <td>38859492057661</td>\n",
              "      <td>fraud_Lind-Buckridge</td>\n",
              "      <td>entertainment</td>\n",
              "      <td>220.11</td>\n",
              "      <td>Edward</td>\n",
              "      <td>Sanchez</td>\n",
              "      <td>M</td>\n",
              "      <td>594 White Dale Suite 530</td>\n",
              "      <td>...</td>\n",
              "      <td>4154</td>\n",
              "      <td>Nature conservation officer</td>\n",
              "      <td>1962-01-19</td>\n",
              "      <td>a1a22d70485983eac12b5b88dad1cf95</td>\n",
              "      <td>1325376051</td>\n",
              "      <td>43.150704</td>\n",
              "      <td>-112.154481</td>\n",
              "      <td>0</td>\n",
              "      <td>2019</td>\n",
              "      <td>1</td>\n",
              "    </tr>\n",
              "    <tr>\n",
              "      <th>3</th>\n",
              "      <td>3</td>\n",
              "      <td>2019-01-01 00:01:16</td>\n",
              "      <td>3534093764340240</td>\n",
              "      <td>fraud_Kutch, Hermiston and Farrell</td>\n",
              "      <td>gas_transport</td>\n",
              "      <td>45.00</td>\n",
              "      <td>Jeremy</td>\n",
              "      <td>White</td>\n",
              "      <td>M</td>\n",
              "      <td>9443 Cynthia Court Apt. 038</td>\n",
              "      <td>...</td>\n",
              "      <td>1939</td>\n",
              "      <td>Patent attorney</td>\n",
              "      <td>1967-01-12</td>\n",
              "      <td>6b849c168bdad6f867558c3793159a81</td>\n",
              "      <td>1325376076</td>\n",
              "      <td>47.034331</td>\n",
              "      <td>-112.561071</td>\n",
              "      <td>0</td>\n",
              "      <td>2019</td>\n",
              "      <td>1</td>\n",
              "    </tr>\n",
              "    <tr>\n",
              "      <th>4</th>\n",
              "      <td>4</td>\n",
              "      <td>2019-01-01 00:03:06</td>\n",
              "      <td>375534208663984</td>\n",
              "      <td>fraud_Keeling-Crist</td>\n",
              "      <td>misc_pos</td>\n",
              "      <td>41.96</td>\n",
              "      <td>Tyler</td>\n",
              "      <td>Garcia</td>\n",
              "      <td>M</td>\n",
              "      <td>408 Bradley Rest</td>\n",
              "      <td>...</td>\n",
              "      <td>99</td>\n",
              "      <td>Dance movement psychotherapist</td>\n",
              "      <td>1986-03-28</td>\n",
              "      <td>a41d7549acf90789359a9aa5346dcb46</td>\n",
              "      <td>1325376186</td>\n",
              "      <td>38.674999</td>\n",
              "      <td>-78.632459</td>\n",
              "      <td>0</td>\n",
              "      <td>2019</td>\n",
              "      <td>1</td>\n",
              "    </tr>\n",
              "  </tbody>\n",
              "</table>\n",
              "<p>5 rows × 25 columns</p>\n",
              "</div>\n",
              "      <button class=\"colab-df-convert\" onclick=\"convertToInteractive('df-6addd708-181b-438a-bf98-3e6726cc579b')\"\n",
              "              title=\"Convert this dataframe to an interactive table.\"\n",
              "              style=\"display:none;\">\n",
              "        \n",
              "  <svg xmlns=\"http://www.w3.org/2000/svg\" height=\"24px\"viewBox=\"0 0 24 24\"\n",
              "       width=\"24px\">\n",
              "    <path d=\"M0 0h24v24H0V0z\" fill=\"none\"/>\n",
              "    <path d=\"M18.56 5.44l.94 2.06.94-2.06 2.06-.94-2.06-.94-.94-2.06-.94 2.06-2.06.94zm-11 1L8.5 8.5l.94-2.06 2.06-.94-2.06-.94L8.5 2.5l-.94 2.06-2.06.94zm10 10l.94 2.06.94-2.06 2.06-.94-2.06-.94-.94-2.06-.94 2.06-2.06.94z\"/><path d=\"M17.41 7.96l-1.37-1.37c-.4-.4-.92-.59-1.43-.59-.52 0-1.04.2-1.43.59L10.3 9.45l-7.72 7.72c-.78.78-.78 2.05 0 2.83L4 21.41c.39.39.9.59 1.41.59.51 0 1.02-.2 1.41-.59l7.78-7.78 2.81-2.81c.8-.78.8-2.07 0-2.86zM5.41 20L4 18.59l7.72-7.72 1.47 1.35L5.41 20z\"/>\n",
              "  </svg>\n",
              "      </button>\n",
              "      \n",
              "  <style>\n",
              "    .colab-df-container {\n",
              "      display:flex;\n",
              "      flex-wrap:wrap;\n",
              "      gap: 12px;\n",
              "    }\n",
              "\n",
              "    .colab-df-convert {\n",
              "      background-color: #E8F0FE;\n",
              "      border: none;\n",
              "      border-radius: 50%;\n",
              "      cursor: pointer;\n",
              "      display: none;\n",
              "      fill: #1967D2;\n",
              "      height: 32px;\n",
              "      padding: 0 0 0 0;\n",
              "      width: 32px;\n",
              "    }\n",
              "\n",
              "    .colab-df-convert:hover {\n",
              "      background-color: #E2EBFA;\n",
              "      box-shadow: 0px 1px 2px rgba(60, 64, 67, 0.3), 0px 1px 3px 1px rgba(60, 64, 67, 0.15);\n",
              "      fill: #174EA6;\n",
              "    }\n",
              "\n",
              "    [theme=dark] .colab-df-convert {\n",
              "      background-color: #3B4455;\n",
              "      fill: #D2E3FC;\n",
              "    }\n",
              "\n",
              "    [theme=dark] .colab-df-convert:hover {\n",
              "      background-color: #434B5C;\n",
              "      box-shadow: 0px 1px 3px 1px rgba(0, 0, 0, 0.15);\n",
              "      filter: drop-shadow(0px 1px 2px rgba(0, 0, 0, 0.3));\n",
              "      fill: #FFFFFF;\n",
              "    }\n",
              "  </style>\n",
              "\n",
              "      <script>\n",
              "        const buttonEl =\n",
              "          document.querySelector('#df-6addd708-181b-438a-bf98-3e6726cc579b button.colab-df-convert');\n",
              "        buttonEl.style.display =\n",
              "          google.colab.kernel.accessAllowed ? 'block' : 'none';\n",
              "\n",
              "        async function convertToInteractive(key) {\n",
              "          const element = document.querySelector('#df-6addd708-181b-438a-bf98-3e6726cc579b');\n",
              "          const dataTable =\n",
              "            await google.colab.kernel.invokeFunction('convertToInteractive',\n",
              "                                                     [key], {});\n",
              "          if (!dataTable) return;\n",
              "\n",
              "          const docLinkHtml = 'Like what you see? Visit the ' +\n",
              "            '<a target=\"_blank\" href=https://colab.research.google.com/notebooks/data_table.ipynb>data table notebook</a>'\n",
              "            + ' to learn more about interactive tables.';\n",
              "          element.innerHTML = '';\n",
              "          dataTable['output_type'] = 'display_data';\n",
              "          await google.colab.output.renderOutput(dataTable, element);\n",
              "          const docLink = document.createElement('div');\n",
              "          docLink.innerHTML = docLinkHtml;\n",
              "          element.appendChild(docLink);\n",
              "        }\n",
              "      </script>\n",
              "    </div>\n",
              "  </div>\n",
              "  "
            ]
          },
          "metadata": {},
          "execution_count": 8
        }
      ],
      "source": [
        "data.head()\n"
      ]
    },
    {
      "cell_type": "code",
      "execution_count": null,
      "metadata": {
        "id": "DHDb6OoLBVU2",
        "colab": {
          "base_uri": "https://localhost:8080/"
        },
        "outputId": "c330aca3-c933-4c4d-cffd-eac70aa70fc9"
      },
      "outputs": [
        {
          "output_type": "execute_result",
          "data": {
            "text/plain": [
              "year  month\n",
              "2019  1         52525\n",
              "      2         49866\n",
              "      3         70939\n",
              "      4         68078\n",
              "      5         72532\n",
              "      6         86064\n",
              "      7         86596\n",
              "      8         87359\n",
              "      9         70652\n",
              "      10        68758\n",
              "      11        70421\n",
              "      12       141060\n",
              "2020  1         52202\n",
              "      2         47791\n",
              "      3         72850\n",
              "      4         66892\n",
              "      5         74343\n",
              "      6         87805\n",
              "      7         85848\n",
              "      8         88759\n",
              "      9         69533\n",
              "      10        69348\n",
              "      11        72635\n",
              "      12       139538\n",
              "Name: is_fraud, dtype: int64"
            ]
          },
          "metadata": {},
          "execution_count": 9
        }
      ],
      "source": [
        "avg = data.groupby(['year', 'month']).is_fraud.count()\n",
        "avg"
      ]
    },
    {
      "cell_type": "code",
      "execution_count": null,
      "metadata": {
        "id": "iU8e1ChBBdI6",
        "colab": {
          "base_uri": "https://localhost:8080/"
        },
        "outputId": "2d9d3d08-3d06-40a5-f505-aff37ed94ae8"
      },
      "outputs": [
        {
          "output_type": "execute_result",
          "data": {
            "text/plain": [
              "77183.08333333333"
            ]
          },
          "metadata": {},
          "execution_count": 10
        }
      ],
      "source": [
        "# Average number of transactions per month\n",
        "\n",
        "Avg_tran_per_month = avg.sum()/24\n",
        "Avg_tran_per_month"
      ]
    },
    {
      "cell_type": "code",
      "execution_count": null,
      "metadata": {
        "id": "5F2ipwY-BeMK"
      },
      "outputs": [],
      "source": [
        "fraud_trans = data[data['is_fraud']==1]\n"
      ]
    },
    {
      "cell_type": "code",
      "execution_count": null,
      "metadata": {
        "id": "lihd5BZOBeBy",
        "colab": {
          "base_uri": "https://localhost:8080/"
        },
        "outputId": "ae1b7cab-efb8-49f1-85bc-ba0fa3d129aa"
      },
      "outputs": [
        {
          "output_type": "execute_result",
          "data": {
            "text/plain": [
              "year  month\n",
              "2019  1        506\n",
              "      2        517\n",
              "      3        494\n",
              "      4        376\n",
              "      5        408\n",
              "      6        354\n",
              "      7        331\n",
              "      8        382\n",
              "      9        418\n",
              "      10       454\n",
              "      11       388\n",
              "      12       592\n",
              "2020  1        343\n",
              "      2        336\n",
              "      3        444\n",
              "      4        302\n",
              "      5        527\n",
              "      6        467\n",
              "      7        321\n",
              "      8        415\n",
              "      9        340\n",
              "      10       384\n",
              "      11       294\n",
              "      12       258\n",
              "Name: is_fraud, dtype: int64"
            ]
          },
          "metadata": {},
          "execution_count": 12
        }
      ],
      "source": [
        "avg_fraud = fraud_trans.groupby(['year', 'month']).is_fraud.count()\n",
        "avg_fraud"
      ]
    },
    {
      "cell_type": "code",
      "execution_count": null,
      "metadata": {
        "id": "-u9R4NdSBjGH",
        "colab": {
          "base_uri": "https://localhost:8080/"
        },
        "outputId": "8d1d85a0-32da-4463-be0a-c61f4a058c7e"
      },
      "outputs": [
        {
          "output_type": "execute_result",
          "data": {
            "text/plain": [
              "402.125"
            ]
          },
          "metadata": {},
          "execution_count": 13
        }
      ],
      "source": [
        "Avg_fraud_tran_per_month = avg_fraud.sum()/24\n",
        "Avg_fraud_tran_per_month"
      ]
    },
    {
      "cell_type": "code",
      "execution_count": null,
      "metadata": {
        "id": "eaCNw6PWBowc",
        "colab": {
          "base_uri": "https://localhost:8080/"
        },
        "outputId": "633d6321-b1d9-4990-97c7-50a40b78ec00"
      },
      "outputs": [
        {
          "output_type": "execute_result",
          "data": {
            "text/plain": [
              "530.661412288882"
            ]
          },
          "metadata": {},
          "execution_count": 14
        }
      ],
      "source": [
        "fraud_trans.amt.mean()\n"
      ]
    },
    {
      "cell_type": "code",
      "execution_count": null,
      "metadata": {
        "id": "C_aPKSvpBr5a",
        "colab": {
          "base_uri": "https://localhost:8080/"
        },
        "outputId": "0f8d497b-ac93-4a96-a5d3-cd5a6a9ab7c0"
      },
      "outputs": [
        {
          "output_type": "execute_result",
          "data": {
            "text/plain": [
              "1850.875"
            ]
          },
          "metadata": {},
          "execution_count": 15
        }
      ],
      "source": [
        "TF = (41715+2706)/24    # (True Positives  + False Positives) as per xgb_best confusion matrix\n",
        "TF"
      ]
    },
    {
      "cell_type": "code",
      "execution_count": null,
      "metadata": {
        "id": "yvc4dNprBr0Z"
      },
      "outputs": [],
      "source": [
        "# Let FN be the average number of transactions per month that are fraudulent but not detected by the model\n",
        "\n",
        "FN = 189 # False Negatives as per xgb_best confusion matrix"
      ]
    },
    {
      "cell_type": "code",
      "execution_count": null,
      "metadata": {
        "id": "oA0M2M62Brp1",
        "colab": {
          "base_uri": "https://localhost:8080/"
        },
        "outputId": "b612f232-2575-449f-de81-95d28bd58711"
      },
      "outputs": [
        {
          "output_type": "stream",
          "name": "stdout",
          "text": [
            "213391.6525\n",
            "2776.3125\n",
            "100294.73999999999\n"
          ]
        }
      ],
      "source": [
        "# Cost incurred per month before the model was deployed\n",
        "Cost_Before = 402.125*530.66\n",
        "print(Cost_Before)\n",
        "\n",
        "# cost of providing customer executive support per fraudulent transaction detected by the model = $1.5\n",
        "\n",
        "# Total cost of providing customer support per month for fraudulent transactions detected by the model (TF*$1.5)\n",
        "\n",
        "Cost_cust_supp = TF*1.5\n",
        "print(Cost_cust_supp)\n",
        "\n",
        "# Cost incurred due to fraudulent transactions left undetected by the model\n",
        "Cost_fraud = FN*530.66\n",
        "print(Cost_fraud)"
      ]
    },
    {
      "cell_type": "code",
      "execution_count": null,
      "metadata": {
        "id": "fv9Ceq0oBrek",
        "colab": {
          "base_uri": "https://localhost:8080/"
        },
        "outputId": "09d7b990-24a8-489c-9cc1-1d1609cb4652"
      },
      "outputs": [
        {
          "output_type": "execute_result",
          "data": {
            "text/plain": [
              "103071.05249999999"
            ]
          },
          "metadata": {},
          "execution_count": 18
        }
      ],
      "source": [
        "# Cost incurred per month after the model is built and deployed\n",
        "\n",
        "Cost_after_model = Cost_cust_supp + Cost_fraud\n",
        "Cost_after_model\n"
      ]
    },
    {
      "cell_type": "code",
      "execution_count": null,
      "metadata": {
        "id": "rokoCoKAB1sI",
        "colab": {
          "base_uri": "https://localhost:8080/"
        },
        "outputId": "c7442aa8-a7bb-456e-96e6-69ee2f033991"
      },
      "outputs": [
        {
          "output_type": "execute_result",
          "data": {
            "text/plain": [
              "110320.6"
            ]
          },
          "metadata": {},
          "execution_count": 19
        }
      ],
      "source": [
        "# Final savings = Cost incurred before - Cost incurred after\n",
        "\n",
        "Final_Savings = Cost_Before - Cost_after_model\n",
        "Final_Savings"
      ]
    },
    {
      "cell_type": "code",
      "source": [],
      "metadata": {
        "id": "cizWLJYQ5BjE"
      },
      "execution_count": null,
      "outputs": []
    }
  ],
  "metadata": {
    "colab": {
      "provenance": []
    },
    "kernelspec": {
      "display_name": "Python 3",
      "name": "python3"
    },
    "language_info": {
      "name": "python"
    }
  },
  "nbformat": 4,
  "nbformat_minor": 0
}